{
 "cells": [
  {
   "cell_type": "code",
   "execution_count": 1,
   "id": "b3908b4d",
   "metadata": {
    "_cell_guid": "b1076dfc-b9ad-4769-8c92-a6c4dae69d19",
    "_uuid": "8f2839f25d086af736a60e9eeb907d3b93b6e0e5",
    "execution": {
     "iopub.execute_input": "2023-02-28T16:07:56.661467Z",
     "iopub.status.busy": "2023-02-28T16:07:56.660691Z",
     "iopub.status.idle": "2023-02-28T16:07:56.718851Z",
     "shell.execute_reply": "2023-02-28T16:07:56.717827Z"
    },
    "papermill": {
     "duration": 0.072249,
     "end_time": "2023-02-28T16:07:56.721949",
     "exception": false,
     "start_time": "2023-02-28T16:07:56.649700",
     "status": "completed"
    },
    "tags": []
   },
   "outputs": [
    {
     "name": "stdout",
     "output_type": "stream",
     "text": [
      "/kaggle/input/stanford-sentiment-treebank/stanfordSentimentTreebank/datasetSentences.txt\n",
      "/kaggle/input/stanford-sentiment-treebank/stanfordSentimentTreebank/STree.txt\n",
      "/kaggle/input/stanford-sentiment-treebank/stanfordSentimentTreebank/README.txt\n",
      "/kaggle/input/stanford-sentiment-treebank/stanfordSentimentTreebank/original_rt_snippets.txt\n",
      "/kaggle/input/stanford-sentiment-treebank/stanfordSentimentTreebank/SOStr.txt\n",
      "/kaggle/input/stanford-sentiment-treebank/stanfordSentimentTreebank/dictionary.txt\n",
      "/kaggle/input/stanford-sentiment-treebank/stanfordSentimentTreebank/sentiment_labels.txt\n",
      "/kaggle/input/stanford-sentiment-treebank/stanfordSentimentTreebank/datasetSplit.txt\n",
      "/kaggle/input/stanford-sentiment-treebank-v2-sst2/BERT-SST2-Dataset-Paper.pdf\n",
      "/kaggle/input/stanford-sentiment-treebank-v2-sst2/Writing Code for NLP Research.pdf\n",
      "/kaggle/input/stanford-sentiment-treebank-v2-sst2/SST2-Data/SST2-Data/stanfordSentimentTreebankRaw/stanfordSentimentTreebankRaw/README.txt\n",
      "/kaggle/input/stanford-sentiment-treebank-v2-sst2/SST2-Data/SST2-Data/stanfordSentimentTreebankRaw/stanfordSentimentTreebankRaw/sentlex_exp12.txt\n",
      "/kaggle/input/stanford-sentiment-treebank-v2-sst2/SST2-Data/SST2-Data/stanfordSentimentTreebankRaw/stanfordSentimentTreebankRaw/rawscores_exp12.txt\n",
      "/kaggle/input/stanford-sentiment-treebank-v2-sst2/SST2-Data/SST2-Data/trainDevTestTrees_PTB/trees/test.txt\n",
      "/kaggle/input/stanford-sentiment-treebank-v2-sst2/SST2-Data/SST2-Data/trainDevTestTrees_PTB/trees/train.txt\n",
      "/kaggle/input/stanford-sentiment-treebank-v2-sst2/SST2-Data/SST2-Data/trainDevTestTrees_PTB/trees/dev.txt\n",
      "/kaggle/input/stanford-sentiment-treebank-v2-sst2/SST2-Data/SST2-Data/stanfordSentimentTreebank/stanfordSentimentTreebank/datasetSentences.txt\n",
      "/kaggle/input/stanford-sentiment-treebank-v2-sst2/SST2-Data/SST2-Data/stanfordSentimentTreebank/stanfordSentimentTreebank/STree.txt\n",
      "/kaggle/input/stanford-sentiment-treebank-v2-sst2/SST2-Data/SST2-Data/stanfordSentimentTreebank/stanfordSentimentTreebank/README.txt\n",
      "/kaggle/input/stanford-sentiment-treebank-v2-sst2/SST2-Data/SST2-Data/stanfordSentimentTreebank/stanfordSentimentTreebank/original_rt_snippets.txt\n",
      "/kaggle/input/stanford-sentiment-treebank-v2-sst2/SST2-Data/SST2-Data/stanfordSentimentTreebank/stanfordSentimentTreebank/SOStr.txt\n",
      "/kaggle/input/stanford-sentiment-treebank-v2-sst2/SST2-Data/SST2-Data/stanfordSentimentTreebank/stanfordSentimentTreebank/dictionary.txt\n",
      "/kaggle/input/stanford-sentiment-treebank-v2-sst2/SST2-Data/SST2-Data/stanfordSentimentTreebank/stanfordSentimentTreebank/sentiment_labels.txt\n",
      "/kaggle/input/stanford-sentiment-treebank-v2-sst2/SST2-Data/SST2-Data/stanfordSentimentTreebank/stanfordSentimentTreebank/datasetSplit.txt\n"
     ]
    }
   ],
   "source": [
    "import numpy as np \n",
    "import pandas as pd \n",
    "\n",
    "import os\n",
    "for dirname, _, filenames in os.walk('/kaggle/input'):\n",
    "    for filename in filenames:\n",
    "        print(os.path.join(dirname, filename))"
   ]
  },
  {
   "cell_type": "code",
   "execution_count": 2,
   "id": "671dfb12",
   "metadata": {
    "execution": {
     "iopub.execute_input": "2023-02-28T16:07:56.738718Z",
     "iopub.status.busy": "2023-02-28T16:07:56.738447Z",
     "iopub.status.idle": "2023-02-28T16:08:06.612240Z",
     "shell.execute_reply": "2023-02-28T16:08:06.611090Z"
    },
    "papermill": {
     "duration": 9.885052,
     "end_time": "2023-02-28T16:08:06.614938",
     "exception": false,
     "start_time": "2023-02-28T16:07:56.729886",
     "status": "completed"
    },
    "tags": []
   },
   "outputs": [
    {
     "name": "stdout",
     "output_type": "stream",
     "text": [
      "1.13.0\n"
     ]
    }
   ],
   "source": [
    "import math,copy,re\n",
    "import warnings\n",
    "import pandas as pd\n",
    "import pickle\n",
    "import numpy as np\n",
    "import seaborn as sns\n",
    "import torch\n",
    "from sklearn.metrics import accuracy_score\n",
    "import torchtext\n",
    "import matplotlib.pyplot as plt\n",
    "warnings.simplefilter(\"ignore\")\n",
    "print(torch.__version__)\n",
    "from torchtext.data.utils import get_tokenizer\n",
    "import tensorflow as tf\n",
    "from nltk.tokenize import word_tokenize"
   ]
  },
  {
   "cell_type": "code",
   "execution_count": 3,
   "id": "e6f6be66",
   "metadata": {
    "execution": {
     "iopub.execute_input": "2023-02-28T16:08:06.633479Z",
     "iopub.status.busy": "2023-02-28T16:08:06.632202Z",
     "iopub.status.idle": "2023-02-28T16:08:06.637616Z",
     "shell.execute_reply": "2023-02-28T16:08:06.636646Z"
    },
    "papermill": {
     "duration": 0.01652,
     "end_time": "2023-02-28T16:08:06.639759",
     "exception": false,
     "start_time": "2023-02-28T16:08:06.623239",
     "status": "completed"
    },
    "tags": []
   },
   "outputs": [],
   "source": [
    "import keras"
   ]
  },
  {
   "cell_type": "code",
   "execution_count": 4,
   "id": "532e0d82",
   "metadata": {
    "execution": {
     "iopub.execute_input": "2023-02-28T16:08:06.657088Z",
     "iopub.status.busy": "2023-02-28T16:08:06.656761Z",
     "iopub.status.idle": "2023-02-28T16:08:06.891934Z",
     "shell.execute_reply": "2023-02-28T16:08:06.890407Z"
    },
    "papermill": {
     "duration": 0.248291,
     "end_time": "2023-02-28T16:08:06.896089",
     "exception": false,
     "start_time": "2023-02-28T16:08:06.647798",
     "status": "completed"
    },
    "tags": []
   },
   "outputs": [
    {
     "name": "stdout",
     "output_type": "stream",
     "text": [
      "[nltk_data] Downloading package stopwords to /usr/share/nltk_data...\n",
      "[nltk_data]   Package stopwords is already up-to-date!\n",
      "[nltk_data] Downloading package punkt to /usr/share/nltk_data...\n",
      "[nltk_data]   Package punkt is already up-to-date!\n"
     ]
    },
    {
     "data": {
      "text/plain": [
       "True"
      ]
     },
     "execution_count": 4,
     "metadata": {},
     "output_type": "execute_result"
    }
   ],
   "source": [
    "import nltk\n",
    "nltk.download('stopwords')\n",
    "nltk.download('punkt')"
   ]
  },
  {
   "cell_type": "code",
   "execution_count": 5,
   "id": "f4c5218a",
   "metadata": {
    "execution": {
     "iopub.execute_input": "2023-02-28T16:08:06.913488Z",
     "iopub.status.busy": "2023-02-28T16:08:06.913187Z",
     "iopub.status.idle": "2023-02-28T16:08:06.919707Z",
     "shell.execute_reply": "2023-02-28T16:08:06.918808Z"
    },
    "papermill": {
     "duration": 0.017597,
     "end_time": "2023-02-28T16:08:06.922073",
     "exception": false,
     "start_time": "2023-02-28T16:08:06.904476",
     "status": "completed"
    },
    "tags": []
   },
   "outputs": [],
   "source": [
    "from nltk.corpus import stopwords\n",
    "stop_words = set(stopwords.words('english'))"
   ]
  },
  {
   "cell_type": "code",
   "execution_count": 6,
   "id": "f6daca3f",
   "metadata": {
    "execution": {
     "iopub.execute_input": "2023-02-28T16:08:06.939656Z",
     "iopub.status.busy": "2023-02-28T16:08:06.939397Z",
     "iopub.status.idle": "2023-02-28T16:08:06.943618Z",
     "shell.execute_reply": "2023-02-28T16:08:06.942490Z"
    },
    "papermill": {
     "duration": 0.014983,
     "end_time": "2023-02-28T16:08:06.945643",
     "exception": false,
     "start_time": "2023-02-28T16:08:06.930660",
     "status": "completed"
    },
    "tags": []
   },
   "outputs": [],
   "source": [
    "all_models = []"
   ]
  },
  {
   "cell_type": "code",
   "execution_count": 7,
   "id": "b31f29a4",
   "metadata": {
    "execution": {
     "iopub.execute_input": "2023-02-28T16:08:06.963174Z",
     "iopub.status.busy": "2023-02-28T16:08:06.962295Z",
     "iopub.status.idle": "2023-02-28T16:08:11.662671Z",
     "shell.execute_reply": "2023-02-28T16:08:11.661650Z"
    },
    "papermill": {
     "duration": 4.712044,
     "end_time": "2023-02-28T16:08:11.665509",
     "exception": false,
     "start_time": "2023-02-28T16:08:06.953465",
     "status": "completed"
    },
    "tags": []
   },
   "outputs": [],
   "source": [
    "\n",
    "sentiments = pd.read_csv(\"/kaggle/input/stanford-sentiment-treebank-v2-sst2/SST2-Data/SST2-Data/stanfordSentimentTreebank/stanfordSentimentTreebank/sentiment_labels.txt\", delimiter='|')\n",
    "dataset_phrases = pd.read_csv(\"/kaggle/input/stanford-sentiment-treebank-v2-sst2/SST2-Data/SST2-Data/stanfordSentimentTreebank/stanfordSentimentTreebank/dictionary.txt\", delimiter='|')\n",
    "dataset_phrases.sort_values('0',inplace = True)\n",
    "dataset_phrases.set_index('0', inplace=True)\n",
    "df = pd.concat([dataset_phrases,sentiments], axis=1)\n",
    "df.isnull()\n",
    "df.dropna(how = 'any', axis = 0, inplace = True)\n",
    "p = []\n",
    "a = 0.333\n",
    "b = 0.666\n",
    "for i in list(df['sentiment values']):\n",
    "    if (i>=0 and i<=a): \n",
    "        p.append(0)\n",
    "    elif i>a and i<=b:\n",
    "        p.append(1)\n",
    "    else:\n",
    "        p.append(2)\n",
    "p[:3]\n",
    "\n",
    "X = df['!'].astype('str')\n",
    "y = p\n",
    "from sklearn.model_selection import train_test_split\n",
    "X_train, X_test, y_train, y_test = train_test_split(X, y,stratify = y,test_size=0.1)\n",
    "org_y_train = y_train\n",
    "org_y_test = y_test\n",
    "\n"
   ]
  },
  {
   "cell_type": "code",
   "execution_count": 8,
   "id": "907c1e3f",
   "metadata": {
    "execution": {
     "iopub.execute_input": "2023-02-28T16:08:11.684463Z",
     "iopub.status.busy": "2023-02-28T16:08:11.684125Z",
     "iopub.status.idle": "2023-02-28T16:08:17.993116Z",
     "shell.execute_reply": "2023-02-28T16:08:17.992078Z"
    },
    "papermill": {
     "duration": 6.321355,
     "end_time": "2023-02-28T16:08:17.995954",
     "exception": false,
     "start_time": "2023-02-28T16:08:11.674599",
     "status": "completed"
    },
    "tags": []
   },
   "outputs": [],
   "source": [
    "from tensorflow.keras.preprocessing.text import Tokenizer\n",
    "from tensorflow.keras.preprocessing.sequence import pad_sequences\n",
    "tokenizer = Tokenizer(oov_token= '<0VV>') \n",
    "tokenizer.fit_on_texts(X_train.astype(str)) \n",
    "word_index_ = tokenizer.word_index\n",
    "vocab_size = 18079\n",
    "\n",
    "sequence_train = tokenizer.texts_to_sequences(X_train)\n",
    "sequence_test = tokenizer.texts_to_sequences(X_test)\n",
    "padded_train = pad_sequences(sequence_train, maxlen= 52)\n",
    "padded_test = pad_sequences(sequence_test, maxlen= 52)\n",
    "\n",
    "X_train = padded_train\n",
    "X_test = padded_test\n",
    "y_train = tf.keras.utils.to_categorical(y_train,num_classes= 3)"
   ]
  },
  {
   "cell_type": "markdown",
   "id": "d6fa03eb",
   "metadata": {
    "papermill": {
     "duration": 0.007822,
     "end_time": "2023-02-28T16:08:18.012069",
     "exception": false,
     "start_time": "2023-02-28T16:08:18.004247",
     "status": "completed"
    },
    "tags": []
   },
   "source": [
    "**Model 0**"
   ]
  },
  {
   "cell_type": "code",
   "execution_count": 9,
   "id": "4449f478",
   "metadata": {
    "execution": {
     "iopub.execute_input": "2023-02-28T16:08:18.029256Z",
     "iopub.status.busy": "2023-02-28T16:08:18.028928Z",
     "iopub.status.idle": "2023-02-28T16:08:23.032324Z",
     "shell.execute_reply": "2023-02-28T16:08:23.031279Z"
    },
    "papermill": {
     "duration": 5.015209,
     "end_time": "2023-02-28T16:08:23.035191",
     "exception": false,
     "start_time": "2023-02-28T16:08:18.019982",
     "status": "completed"
    },
    "tags": []
   },
   "outputs": [],
   "source": [
    "class MultiHeadAttention(tf.keras.layers.Layer):\n",
    "    def __init__(self,d_model):\n",
    "        super(MultiHeadAttention, self).__init__()\n",
    "        \n",
    "        self.wq = tf.keras.layers.Dense(d_model)\n",
    "        self.wk = tf.keras.layers.Dense(d_model)\n",
    "        self.d_model = d_model\n",
    "    def scaled_dot_product_attention(self, q, k, mask):\n",
    "        matmul_qk = tf.matmul(q, k, transpose_b=True)\n",
    "        dk = tf.cast(tf.shape(k)[-1], tf.float32)\n",
    "        scaled_scores = matmul_qk / tf.math.sqrt(dk)\n",
    "        \n",
    "        if mask is not None:\n",
    "            scaled_scores += (mask * -1e9)\n",
    "        attention_weights = tf.nn.softmax(scaled_scores, axis=-1)\n",
    "        return attention_weights\n",
    "    \n",
    "    def call(self, q, k, mask=None):\n",
    "        batch_size = tf.shape(q)[0]\n",
    "        q = self.wq(q)\n",
    "        k = self.wk(k)\n",
    "        attention_weights = self.scaled_dot_product_attention(q, k, mask)\n",
    "        return attention_weights\n",
    "\n",
    "class SentimentAnalysisModel(tf.keras.Model):\n",
    "    def __init__(self, vocab_size, embedding_dim, ff_dim, max_seq_length,num_classes):\n",
    "        super(SentimentAnalysisModel, self).__init__()\n",
    "        \n",
    "        self.embedding = tf.keras.layers.Embedding(vocab_size, embedding_dim, input_length=max_seq_length)\n",
    "        self.attention = MultiHeadAttention(embedding_dim)\n",
    "        self.dense1 = tf.keras.layers.Dense(ff_dim, activation='relu')\n",
    "        self.dropout = tf.keras.layers.Dropout(0.1)\n",
    "        self.dense2 = tf.keras.layers.Dense(num_classes, activation='softmax')\n",
    "        self.dense3 = tf.keras.layers.Dense(units = 1)\n",
    "\n",
    "        \n",
    "    def call(self, inputs):\n",
    "        x = self.embedding(inputs)\n",
    "        att_weights = self.attention(x, x)\n",
    "        x = self.dense1(x)\n",
    "        x = self.dropout(x)\n",
    "        x = self.dense2(x)\n",
    "        att_weights = tf.squeeze(att_weights)\n",
    "        att_weights = tf.reduce_mean(att_weights, axis=1)\n",
    "        att_weights = tf.expand_dims(att_weights,axis=1)\n",
    "        att_weights = tf.transpose(att_weights,perm=[0,2,1])\n",
    "        y_pred_att = tf.reduce_sum(x*att_weights, axis=1)\n",
    "        return y_pred_att\n",
    "\n",
    "    def predict_fun(self,x):\n",
    "        y = self.call(x)\n",
    "        y = y.numpy()\n",
    "        return y\n",
    "\n",
    "\n",
    "embedding_dim = 128\n",
    "num_classes = 3\n",
    "ff_dim = 64\n",
    "num_epochs = 7\n",
    "max_seq_length = 100\n",
    "learning_rate = 0.01\n",
    "\n",
    "model = SentimentAnalysisModel(vocab_size, embedding_dim, ff_dim, max_seq_length, num_classes)\n",
    "optimizer = keras.optimizers.Nadam(lr=0.01)\n",
    "model.build(input_shape=(None, max_seq_length)) "
   ]
  },
  {
   "cell_type": "code",
   "execution_count": 10,
   "id": "440c1b2a",
   "metadata": {
    "execution": {
     "iopub.execute_input": "2023-02-28T16:08:23.055951Z",
     "iopub.status.busy": "2023-02-28T16:08:23.055643Z",
     "iopub.status.idle": "2023-02-28T16:08:23.059965Z",
     "shell.execute_reply": "2023-02-28T16:08:23.058858Z"
    },
    "papermill": {
     "duration": 0.016238,
     "end_time": "2023-02-28T16:08:23.062203",
     "exception": false,
     "start_time": "2023-02-28T16:08:23.045965",
     "status": "completed"
    },
    "tags": []
   },
   "outputs": [],
   "source": [
    "epoch = 8"
   ]
  },
  {
   "cell_type": "code",
   "execution_count": 11,
   "id": "c17a99b9",
   "metadata": {
    "execution": {
     "iopub.execute_input": "2023-02-28T16:08:23.078965Z",
     "iopub.status.busy": "2023-02-28T16:08:23.078675Z",
     "iopub.status.idle": "2023-02-28T16:08:23.082906Z",
     "shell.execute_reply": "2023-02-28T16:08:23.081938Z"
    },
    "papermill": {
     "duration": 0.014965,
     "end_time": "2023-02-28T16:08:23.084999",
     "exception": false,
     "start_time": "2023-02-28T16:08:23.070034",
     "status": "completed"
    },
    "tags": []
   },
   "outputs": [],
   "source": [
    "sentiment = [0,1,2]"
   ]
  },
  {
   "cell_type": "code",
   "execution_count": 12,
   "id": "d2b1500b",
   "metadata": {
    "execution": {
     "iopub.execute_input": "2023-02-28T16:08:23.101795Z",
     "iopub.status.busy": "2023-02-28T16:08:23.101535Z",
     "iopub.status.idle": "2023-02-28T16:08:23.106928Z",
     "shell.execute_reply": "2023-02-28T16:08:23.106019Z"
    },
    "papermill": {
     "duration": 0.016393,
     "end_time": "2023-02-28T16:08:23.109298",
     "exception": false,
     "start_time": "2023-02-28T16:08:23.092905",
     "status": "completed"
    },
    "tags": []
   },
   "outputs": [],
   "source": [
    "callback= tf.keras.callbacks.EarlyStopping(monitor=\"val_accuracy\",patience=3, verbose=2, mode=\"auto\", restore_best_weights=True)"
   ]
  },
  {
   "cell_type": "code",
   "execution_count": 13,
   "id": "9fde75f4",
   "metadata": {
    "execution": {
     "iopub.execute_input": "2023-02-28T16:08:23.125893Z",
     "iopub.status.busy": "2023-02-28T16:08:23.125635Z",
     "iopub.status.idle": "2023-02-28T16:13:47.497459Z",
     "shell.execute_reply": "2023-02-28T16:13:47.496163Z"
    },
    "papermill": {
     "duration": 324.383173,
     "end_time": "2023-02-28T16:13:47.500167",
     "exception": false,
     "start_time": "2023-02-28T16:08:23.116994",
     "status": "completed"
    },
    "tags": []
   },
   "outputs": [
    {
     "name": "stdout",
     "output_type": "stream",
     "text": [
      "Epoch 1/8\n",
      "6056/6056 - 61s - loss: 0.5944 - accuracy: 0.7433 - val_loss: 0.5474 - val_accuracy: 0.7642 - 61s/epoch - 10ms/step\n",
      "Epoch 2/8\n",
      "6056/6056 - 30s - loss: 0.5050 - accuracy: 0.7789 - val_loss: 0.5323 - val_accuracy: 0.7681 - 30s/epoch - 5ms/step\n",
      "Epoch 3/8\n",
      "6056/6056 - 31s - loss: 0.4740 - accuracy: 0.7912 - val_loss: 0.5263 - val_accuracy: 0.7743 - 31s/epoch - 5ms/step\n",
      "Epoch 4/8\n",
      "6056/6056 - 31s - loss: 0.4576 - accuracy: 0.7973 - val_loss: 0.5297 - val_accuracy: 0.7762 - 31s/epoch - 5ms/step\n",
      "Epoch 5/8\n",
      "6056/6056 - 29s - loss: 0.4473 - accuracy: 0.8021 - val_loss: 0.5310 - val_accuracy: 0.7752 - 29s/epoch - 5ms/step\n",
      "Epoch 6/8\n",
      "6056/6056 - 30s - loss: 0.4394 - accuracy: 0.8043 - val_loss: 0.5311 - val_accuracy: 0.7792 - 30s/epoch - 5ms/step\n",
      "Epoch 7/8\n",
      "6056/6056 - 29s - loss: 0.4338 - accuracy: 0.8061 - val_loss: 0.5412 - val_accuracy: 0.7781 - 29s/epoch - 5ms/step\n",
      "Epoch 8/8\n",
      "6056/6056 - 30s - loss: 0.4290 - accuracy: 0.8075 - val_loss: 0.5410 - val_accuracy: 0.7744 - 30s/epoch - 5ms/step\n"
     ]
    }
   ],
   "source": [
    "X_train, X_val, y_train, y_val = train_test_split(X_train, y_train,stratify = y_train ,test_size=0.1)\n",
    "model.compile(loss= \"categorical_crossentropy\", optimizer=\"adam\", metrics=[\"accuracy\"])\n",
    "history = model.fit(X_train, y_train, epochs = epoch, verbose=2, validation_data=(X_val,y_val), callbacks = [callback])"
   ]
  },
  {
   "cell_type": "code",
   "execution_count": 14,
   "id": "b01a7936",
   "metadata": {
    "execution": {
     "iopub.execute_input": "2023-02-28T16:13:47.520785Z",
     "iopub.status.busy": "2023-02-28T16:13:47.519660Z",
     "iopub.status.idle": "2023-02-28T16:13:47.768262Z",
     "shell.execute_reply": "2023-02-28T16:13:47.767280Z"
    },
    "papermill": {
     "duration": 0.260749,
     "end_time": "2023-02-28T16:13:47.770561",
     "exception": false,
     "start_time": "2023-02-28T16:13:47.509812",
     "status": "completed"
    },
    "tags": []
   },
   "outputs": [
    {
     "data": {
      "image/png": "[encoded data removed]",
      "text/plain": [
       "<Figure size 640x480 with 1 Axes>"
      ]
     },
     "metadata": {},
     "output_type": "display_data"
    }
   ],
   "source": [
    "plt.plot(history.history['accuracy'], 'b')\n",
    "plt.plot(history.history['val_accuracy'], 'r')\n",
    "plt.title('Model Accuracy'),\n",
    "plt.xlabel('Epochs')\n",
    "plt.ylabel('Accuracy')\n",
    "plt.legend(['Train', 'Validation'], loc='upper left')\n",
    "plt.show()"
   ]
  },
  {
   "cell_type": "code",
   "execution_count": 15,
   "id": "c5c30414",
   "metadata": {
    "execution": {
     "iopub.execute_input": "2023-02-28T16:13:47.791600Z",
     "iopub.status.busy": "2023-02-28T16:13:47.790186Z",
     "iopub.status.idle": "2023-02-28T16:13:47.797922Z",
     "shell.execute_reply": "2023-02-28T16:13:47.796833Z"
    },
    "papermill": {
     "duration": 0.020982,
     "end_time": "2023-02-28T16:13:47.801052",
     "exception": false,
     "start_time": "2023-02-28T16:13:47.780070",
     "status": "completed"
    },
    "tags": []
   },
   "outputs": [
    {
     "name": "stdout",
     "output_type": "stream",
     "text": [
      "(23924, 3) (23924, 52)\n"
     ]
    }
   ],
   "source": [
    "y_test = tf.keras.utils.to_categorical(y_test, num_classes= 3)\n",
    "print(y_test.shape, X_test.shape)"
   ]
  },
  {
   "cell_type": "code",
   "execution_count": 16,
   "id": "4839ff93",
   "metadata": {
    "execution": {
     "iopub.execute_input": "2023-02-28T16:13:47.822137Z",
     "iopub.status.busy": "2023-02-28T16:13:47.821860Z",
     "iopub.status.idle": "2023-02-28T16:13:50.439494Z",
     "shell.execute_reply": "2023-02-28T16:13:50.437334Z"
    },
    "papermill": {
     "duration": 2.630321,
     "end_time": "2023-02-28T16:13:50.441805",
     "exception": false,
     "start_time": "2023-02-28T16:13:47.811484",
     "status": "completed"
    },
    "tags": []
   },
   "outputs": [
    {
     "name": "stdout",
     "output_type": "stream",
     "text": [
      "Test accuracy: 0.7766259908676147\n"
     ]
    }
   ],
   "source": [
    "scores = model.evaluate(X_test, y_test, verbose=0)\n",
    "print('Test accuracy:', scores[1])"
   ]
  },
  {
   "cell_type": "code",
   "execution_count": 17,
   "id": "7a43b2fb",
   "metadata": {
    "execution": {
     "iopub.execute_input": "2023-02-28T16:13:50.463255Z",
     "iopub.status.busy": "2023-02-28T16:13:50.462268Z",
     "iopub.status.idle": "2023-02-28T16:13:53.239235Z",
     "shell.execute_reply": "2023-02-28T16:13:53.238153Z"
    },
    "papermill": {
     "duration": 2.790538,
     "end_time": "2023-02-28T16:13:53.242100",
     "exception": false,
     "start_time": "2023-02-28T16:13:50.451562",
     "status": "completed"
    },
    "tags": []
   },
   "outputs": [
    {
     "name": "stdout",
     "output_type": "stream",
     "text": [
      "748/748 [==============================] - 2s 2ms/step\n"
     ]
    }
   ],
   "source": [
    "a = model.predict(X_test)"
   ]
  },
  {
   "cell_type": "code",
   "execution_count": 18,
   "id": "56eee44b",
   "metadata": {
    "execution": {
     "iopub.execute_input": "2023-02-28T16:13:53.266988Z",
     "iopub.status.busy": "2023-02-28T16:13:53.266673Z",
     "iopub.status.idle": "2023-02-28T16:13:53.270977Z",
     "shell.execute_reply": "2023-02-28T16:13:53.269977Z"
    },
    "papermill": {
     "duration": 0.019072,
     "end_time": "2023-02-28T16:13:53.273106",
     "exception": false,
     "start_time": "2023-02-28T16:13:53.254034",
     "status": "completed"
    },
    "tags": []
   },
   "outputs": [],
   "source": [
    "all_models.append(model)"
   ]
  },
  {
   "cell_type": "markdown",
   "id": "47e47408",
   "metadata": {
    "papermill": {
     "duration": 0.010618,
     "end_time": "2023-02-28T16:13:53.294472",
     "exception": false,
     "start_time": "2023-02-28T16:13:53.283854",
     "status": "completed"
    },
    "tags": []
   },
   "source": [
    "**Model 1**"
   ]
  },
  {
   "cell_type": "code",
   "execution_count": 19,
   "id": "d55746f0",
   "metadata": {
    "execution": {
     "iopub.execute_input": "2023-02-28T16:13:53.318221Z",
     "iopub.status.busy": "2023-02-28T16:13:53.317933Z",
     "iopub.status.idle": "2023-02-28T16:13:53.628468Z",
     "shell.execute_reply": "2023-02-28T16:13:53.627469Z"
    },
    "papermill": {
     "duration": 0.325226,
     "end_time": "2023-02-28T16:13:53.630989",
     "exception": false,
     "start_time": "2023-02-28T16:13:53.305763",
     "status": "completed"
    },
    "tags": []
   },
   "outputs": [],
   "source": [
    "from keras.layers import LSTM\n",
    "model1 = keras.models.Sequential()\n",
    "model1.add(keras.layers.Embedding(18079+1, 52, input_length=52)) \n",
    "model1.add(LSTM(100))\n",
    "model1.add(keras.layers.Dense(10, activation=\"relu\"))\n",
    "model1.add(keras.layers.Dense(3, activation=\"softmax\")) \n"
   ]
  },
  {
   "cell_type": "code",
   "execution_count": 20,
   "id": "a9fedc53",
   "metadata": {
    "execution": {
     "iopub.execute_input": "2023-02-28T16:13:53.654968Z",
     "iopub.status.busy": "2023-02-28T16:13:53.654647Z",
     "iopub.status.idle": "2023-02-28T16:13:53.675536Z",
     "shell.execute_reply": "2023-02-28T16:13:53.674671Z"
    },
    "papermill": {
     "duration": 0.047188,
     "end_time": "2023-02-28T16:13:53.689701",
     "exception": false,
     "start_time": "2023-02-28T16:13:53.642513",
     "status": "completed"
    },
    "tags": []
   },
   "outputs": [
    {
     "name": "stdout",
     "output_type": "stream",
     "text": [
      "Model: \"sequential\"\n",
      "_________________________________________________________________\n",
      " Layer (type)                Output Shape              Param #   \n",
      "=================================================================\n",
      " embedding_1 (Embedding)     (None, 52, 52)            940160    \n",
      "                                                                 \n",
      " lstm (LSTM)                 (None, 100)               61200     \n",
      "                                                                 \n",
      " dense_5 (Dense)             (None, 10)                1010      \n",
      "                                                                 \n",
      " dense_6 (Dense)             (None, 3)                 33        \n",
      "                                                                 \n",
      "=================================================================\n",
      "Total params: 1,002,403\n",
      "Trainable params: 1,002,403\n",
      "Non-trainable params: 0\n",
      "_________________________________________________________________\n"
     ]
    }
   ],
   "source": [
    "model1.summary()"
   ]
  },
  {
   "cell_type": "code",
   "execution_count": 21,
   "id": "1fcf0a7a",
   "metadata": {
    "execution": {
     "iopub.execute_input": "2023-02-28T16:13:53.714796Z",
     "iopub.status.busy": "2023-02-28T16:13:53.714499Z",
     "iopub.status.idle": "2023-02-28T16:13:53.726419Z",
     "shell.execute_reply": "2023-02-28T16:13:53.725444Z"
    },
    "papermill": {
     "duration": 0.026982,
     "end_time": "2023-02-28T16:13:53.728604",
     "exception": false,
     "start_time": "2023-02-28T16:13:53.701622",
     "status": "completed"
    },
    "tags": []
   },
   "outputs": [],
   "source": [
    "model1.compile(loss= \"categorical_crossentropy\", optimizer=\"adam\", metrics=[\"accuracy\"])"
   ]
  },
  {
   "cell_type": "code",
   "execution_count": 22,
   "id": "5e66dd34",
   "metadata": {
    "execution": {
     "iopub.execute_input": "2023-02-28T16:13:53.756716Z",
     "iopub.status.busy": "2023-02-28T16:13:53.756433Z",
     "iopub.status.idle": "2023-02-28T16:18:40.257622Z",
     "shell.execute_reply": "2023-02-28T16:18:40.256395Z"
    },
    "papermill": {
     "duration": 286.523378,
     "end_time": "2023-02-28T16:18:40.263745",
     "exception": false,
     "start_time": "2023-02-28T16:13:53.740367",
     "status": "completed"
    },
    "tags": []
   },
   "outputs": [
    {
     "name": "stdout",
     "output_type": "stream",
     "text": [
      "Epoch 1/8\n",
      "6056/6056 - 74s - loss: 0.5729 - accuracy: 0.7616 - val_loss: 0.5032 - val_accuracy: 0.7899 - 74s/epoch - 12ms/step\n",
      "Epoch 2/8\n",
      "6056/6056 - 43s - loss: 0.4503 - accuracy: 0.8097 - val_loss: 0.4905 - val_accuracy: 0.7954 - 43s/epoch - 7ms/step\n",
      "Epoch 3/8\n",
      "6056/6056 - 42s - loss: 0.4005 - accuracy: 0.8290 - val_loss: 0.4786 - val_accuracy: 0.8052 - 42s/epoch - 7ms/step\n",
      "Epoch 4/8\n",
      "6056/6056 - 42s - loss: 0.3664 - accuracy: 0.8430 - val_loss: 0.4916 - val_accuracy: 0.7994 - 42s/epoch - 7ms/step\n",
      "Epoch 5/8\n",
      "6056/6056 - 42s - loss: 0.3410 - accuracy: 0.8527 - val_loss: 0.5073 - val_accuracy: 0.8016 - 42s/epoch - 7ms/step\n",
      "Epoch 6/8\n",
      "Restoring model weights from the end of the best epoch: 3.\n",
      "6056/6056 - 42s - loss: 0.3186 - accuracy: 0.8609 - val_loss: 0.5263 - val_accuracy: 0.7950 - 42s/epoch - 7ms/step\n",
      "Epoch 6: early stopping\n"
     ]
    }
   ],
   "source": [
    "history = model1.fit(X_train, y_train, epochs = epoch, verbose=2, validation_data=(X_val,y_val), callbacks = [callback]) # the validation data should be provied as tuple or less there is a huge error in format matching\n"
   ]
  },
  {
   "cell_type": "code",
   "execution_count": 23,
   "id": "c9f8272f",
   "metadata": {
    "execution": {
     "iopub.execute_input": "2023-02-28T16:18:40.292468Z",
     "iopub.status.busy": "2023-02-28T16:18:40.290783Z",
     "iopub.status.idle": "2023-02-28T16:19:17.934402Z",
     "shell.execute_reply": "2023-02-28T16:19:17.933412Z"
    },
    "papermill": {
     "duration": 37.672677,
     "end_time": "2023-02-28T16:19:17.949788",
     "exception": false,
     "start_time": "2023-02-28T16:18:40.277111",
     "status": "completed"
    },
    "tags": []
   },
   "outputs": [
    {
     "data": {
      "image/png": "[encoded data removed]",
      "text/plain": [
       "<Figure size 640x480 with 1 Axes>"
      ]
     },
     "metadata": {},
     "output_type": "display_data"
    }
   ],
   "source": [
    "plt.plot(history.history['accuracy'], 'b')\n",
    "plt.plot(history.history['val_accuracy'], 'r')\n",
    "plt.title('Model Accuracy'),\n",
    "plt.xlabel('Epochs')\n",
    "plt.ylabel('Accuracy')\n",
    "plt.legend(['Train', 'Validation'], loc='upper left')\n",
    "plt.show()"
   ]
  },
  {
   "cell_type": "code",
   "execution_count": 24,
   "id": "c7aa337c",
   "metadata": {
    "execution": {
     "iopub.execute_input": "2023-02-28T16:19:17.977406Z",
     "iopub.status.busy": "2023-02-28T16:19:17.977070Z",
     "iopub.status.idle": "2023-02-28T16:19:20.720758Z",
     "shell.execute_reply": "2023-02-28T16:19:20.719758Z"
    },
    "papermill": {
     "duration": 2.759995,
     "end_time": "2023-02-28T16:19:20.723023",
     "exception": false,
     "start_time": "2023-02-28T16:19:17.963028",
     "status": "completed"
    },
    "tags": []
   },
   "outputs": [
    {
     "name": "stdout",
     "output_type": "stream",
     "text": [
      "Test accuracy: 0.8041297197341919\n"
     ]
    }
   ],
   "source": [
    "scores = model1.evaluate(X_test, y_test, verbose=0)\n",
    "print('Test accuracy:', scores[1])\n",
    "     "
   ]
  },
  {
   "cell_type": "code",
   "execution_count": 25,
   "id": "758c153b",
   "metadata": {
    "execution": {
     "iopub.execute_input": "2023-02-28T16:19:20.750722Z",
     "iopub.status.busy": "2023-02-28T16:19:20.750422Z",
     "iopub.status.idle": "2023-02-28T16:19:20.755933Z",
     "shell.execute_reply": "2023-02-28T16:19:20.755010Z"
    },
    "papermill": {
     "duration": 0.021698,
     "end_time": "2023-02-28T16:19:20.758023",
     "exception": false,
     "start_time": "2023-02-28T16:19:20.736325",
     "status": "completed"
    },
    "tags": []
   },
   "outputs": [],
   "source": [
    "all_models.append(model1)"
   ]
  },
  {
   "cell_type": "markdown",
   "id": "b006a1b5",
   "metadata": {
    "papermill": {
     "duration": 0.012914,
     "end_time": "2023-02-28T16:19:20.783821",
     "exception": false,
     "start_time": "2023-02-28T16:19:20.770907",
     "status": "completed"
    },
    "tags": []
   },
   "source": [
    "**Model 2**"
   ]
  },
  {
   "cell_type": "code",
   "execution_count": 26,
   "id": "354af8ab",
   "metadata": {
    "execution": {
     "iopub.execute_input": "2023-02-28T16:19:20.810713Z",
     "iopub.status.busy": "2023-02-28T16:19:20.810435Z",
     "iopub.status.idle": "2023-02-28T16:19:21.317473Z",
     "shell.execute_reply": "2023-02-28T16:19:21.316486Z"
    },
    "papermill": {
     "duration": 0.523431,
     "end_time": "2023-02-28T16:19:21.320111",
     "exception": false,
     "start_time": "2023-02-28T16:19:20.796680",
     "status": "completed"
    },
    "tags": []
   },
   "outputs": [],
   "source": [
    "\n",
    "from keras.layers import LSTM\n",
    "from keras.layers import Bidirectional, Dense\n",
    "model2 = keras.models.Sequential()\n",
    "model2.add(keras.layers.Embedding(18079+1, 52, input_length=52))\n",
    "model2.add(Bidirectional(LSTM(52)))\n",
    "model2.add(keras.layers.Dense(10, activation=\"relu\"))\n",
    "model2.add(keras.layers.Dense(3, activation=\"softmax\"))"
   ]
  },
  {
   "cell_type": "code",
   "execution_count": 27,
   "id": "cd117c3a",
   "metadata": {
    "execution": {
     "iopub.execute_input": "2023-02-28T16:19:21.348245Z",
     "iopub.status.busy": "2023-02-28T16:19:21.347264Z",
     "iopub.status.idle": "2023-02-28T16:19:21.358583Z",
     "shell.execute_reply": "2023-02-28T16:19:21.357648Z"
    },
    "papermill": {
     "duration": 0.027429,
     "end_time": "2023-02-28T16:19:21.360881",
     "exception": false,
     "start_time": "2023-02-28T16:19:21.333452",
     "status": "completed"
    },
    "tags": []
   },
   "outputs": [],
   "source": [
    "\n",
    "model2.compile(loss= \"categorical_crossentropy\", optimizer=\"adam\", metrics=[\"accuracy\"])"
   ]
  },
  {
   "cell_type": "code",
   "execution_count": 28,
   "id": "f2101186",
   "metadata": {
    "execution": {
     "iopub.execute_input": "2023-02-28T16:19:21.388465Z",
     "iopub.status.busy": "2023-02-28T16:19:21.388164Z",
     "iopub.status.idle": "2023-02-28T16:26:03.950096Z",
     "shell.execute_reply": "2023-02-28T16:26:03.949159Z"
    },
    "papermill": {
     "duration": 402.583219,
     "end_time": "2023-02-28T16:26:03.957594",
     "exception": false,
     "start_time": "2023-02-28T16:19:21.374375",
     "status": "completed"
    },
    "tags": []
   },
   "outputs": [
    {
     "name": "stdout",
     "output_type": "stream",
     "text": [
      "Epoch 1/8\n",
      "6056/6056 - 74s - loss: 0.5711 - accuracy: 0.7626 - val_loss: 0.5005 - val_accuracy: 0.7903 - 74s/epoch - 12ms/step\n",
      "Epoch 2/8\n",
      "6056/6056 - 55s - loss: 0.4484 - accuracy: 0.8112 - val_loss: 0.4781 - val_accuracy: 0.8018 - 55s/epoch - 9ms/step\n",
      "Epoch 3/8\n",
      "6056/6056 - 57s - loss: 0.3997 - accuracy: 0.8306 - val_loss: 0.4812 - val_accuracy: 0.8034 - 57s/epoch - 9ms/step\n",
      "Epoch 4/8\n",
      "6056/6056 - 54s - loss: 0.3664 - accuracy: 0.8430 - val_loss: 0.4948 - val_accuracy: 0.8061 - 54s/epoch - 9ms/step\n",
      "Epoch 5/8\n",
      "6056/6056 - 54s - loss: 0.3415 - accuracy: 0.8522 - val_loss: 0.4973 - val_accuracy: 0.8019 - 54s/epoch - 9ms/step\n",
      "Epoch 6/8\n",
      "6056/6056 - 54s - loss: 0.3199 - accuracy: 0.8611 - val_loss: 0.5247 - val_accuracy: 0.8004 - 54s/epoch - 9ms/step\n",
      "Epoch 7/8\n",
      "Restoring model weights from the end of the best epoch: 4.\n",
      "6056/6056 - 54s - loss: 0.3015 - accuracy: 0.8682 - val_loss: 0.5428 - val_accuracy: 0.7974 - 54s/epoch - 9ms/step\n",
      "Epoch 7: early stopping\n"
     ]
    }
   ],
   "source": [
    "\n",
    "x = model2.fit(X_train, y_train, epochs = epoch, verbose=2, validation_data=(X_val,y_val), callbacks = [callback])"
   ]
  },
  {
   "cell_type": "code",
   "execution_count": 29,
   "id": "51535c3c",
   "metadata": {
    "execution": {
     "iopub.execute_input": "2023-02-28T16:26:03.987668Z",
     "iopub.status.busy": "2023-02-28T16:26:03.986153Z",
     "iopub.status.idle": "2023-02-28T16:26:51.838162Z",
     "shell.execute_reply": "2023-02-28T16:26:51.837072Z"
    },
    "papermill": {
     "duration": 47.869284,
     "end_time": "2023-02-28T16:26:51.840600",
     "exception": false,
     "start_time": "2023-02-28T16:26:03.971316",
     "status": "completed"
    },
    "tags": []
   },
   "outputs": [
    {
     "name": "stdout",
     "output_type": "stream",
     "text": [
      "748/748 - 3s - loss: 0.4852 - accuracy: 0.8054 - 3s/epoch - 4ms/step\n",
      "Test accuracy: 0.8054255247116089\n"
     ]
    }
   ],
   "source": [
    "scores = model2.evaluate(X_test, y_test, verbose=2)\n",
    "print('Test accuracy:', scores[1])"
   ]
  },
  {
   "cell_type": "code",
   "execution_count": 30,
   "id": "7f74eb6e",
   "metadata": {
    "execution": {
     "iopub.execute_input": "2023-02-28T16:26:51.869932Z",
     "iopub.status.busy": "2023-02-28T16:26:51.869626Z",
     "iopub.status.idle": "2023-02-28T16:26:52.082038Z",
     "shell.execute_reply": "2023-02-28T16:26:52.081081Z"
    },
    "papermill": {
     "duration": 0.229591,
     "end_time": "2023-02-28T16:26:52.084282",
     "exception": false,
     "start_time": "2023-02-28T16:26:51.854691",
     "status": "completed"
    },
    "tags": []
   },
   "outputs": [
    {
     "data": {
      "image/png": "[encoded data removed]",
      "text/plain": [
       "<Figure size 640x480 with 1 Axes>"
      ]
     },
     "metadata": {},
     "output_type": "display_data"
    }
   ],
   "source": [
    "\n",
    "history = x\n",
    "plt.plot(history.history['accuracy'], 'b')\n",
    "plt.plot(history.history['val_accuracy'], 'r')\n",
    "plt.title('Model Accuracy'),\n",
    "plt.xlabel('Epochs')\n",
    "plt.ylabel('Accuracy')\n",
    "plt.legend(['Train', 'Validation'], loc='upper left')\n",
    "plt.show()"
   ]
  },
  {
   "cell_type": "code",
   "execution_count": 31,
   "id": "3f808c24",
   "metadata": {
    "execution": {
     "iopub.execute_input": "2023-02-28T16:26:52.115552Z",
     "iopub.status.busy": "2023-02-28T16:26:52.113992Z",
     "iopub.status.idle": "2023-02-28T16:26:52.119254Z",
     "shell.execute_reply": "2023-02-28T16:26:52.118361Z"
    },
    "papermill": {
     "duration": 0.02268,
     "end_time": "2023-02-28T16:26:52.121413",
     "exception": false,
     "start_time": "2023-02-28T16:26:52.098733",
     "status": "completed"
    },
    "tags": []
   },
   "outputs": [],
   "source": [
    "\n",
    "all_models.append(model2)\n",
    "     "
   ]
  },
  {
   "cell_type": "code",
   "execution_count": 32,
   "id": "bb599858",
   "metadata": {
    "execution": {
     "iopub.execute_input": "2023-02-28T16:26:52.151576Z",
     "iopub.status.busy": "2023-02-28T16:26:52.150670Z",
     "iopub.status.idle": "2023-02-28T16:26:52.157440Z",
     "shell.execute_reply": "2023-02-28T16:26:52.156489Z"
    },
    "papermill": {
     "duration": 0.024245,
     "end_time": "2023-02-28T16:26:52.159580",
     "exception": false,
     "start_time": "2023-02-28T16:26:52.135335",
     "status": "completed"
    },
    "tags": []
   },
   "outputs": [],
   "source": [
    "def final_pred(X):\n",
    "    preds = []\n",
    "    for model in all_models[:]:\n",
    "        pred = model.predict(X)\n",
    "        pred = np.argmax(pred,axis=1)\n",
    "        preds.append(pred)\n",
    "    final = np.vstack((preds[0],preds[1],preds[2]))\n",
    "#     final = np.vstack((preds[0],preds[1]))\n",
    "    final = np.array(final)\n",
    "    final = np.transpose(final)\n",
    "    f = []\n",
    "    for i in final:\n",
    "        a,b = np.unique(i,axis=0,return_counts=True)\n",
    "        f.append(a[np.argmax(b)])\n",
    "    return f"
   ]
  },
  {
   "cell_type": "code",
   "execution_count": 33,
   "id": "6aaf03ca",
   "metadata": {
    "execution": {
     "iopub.execute_input": "2023-02-28T16:26:52.188876Z",
     "iopub.status.busy": "2023-02-28T16:26:52.188608Z",
     "iopub.status.idle": "2023-02-28T16:27:02.299888Z",
     "shell.execute_reply": "2023-02-28T16:27:02.293876Z"
    },
    "papermill": {
     "duration": 10.129696,
     "end_time": "2023-02-28T16:27:02.303294",
     "exception": false,
     "start_time": "2023-02-28T16:26:52.173598",
     "status": "completed"
    },
    "tags": []
   },
   "outputs": [
    {
     "name": "stdout",
     "output_type": "stream",
     "text": [
      "748/748 [==============================] - 2s 2ms/step\n",
      "748/748 [==============================] - 2s 2ms/step\n",
      "748/748 [==============================] - 3s 3ms/step\n"
     ]
    }
   ],
   "source": [
    "k = final_pred(X_test)"
   ]
  },
  {
   "cell_type": "code",
   "execution_count": 34,
   "id": "5f8ea115",
   "metadata": {
    "execution": {
     "iopub.execute_input": "2023-02-28T16:27:02.457634Z",
     "iopub.status.busy": "2023-02-28T16:27:02.447465Z",
     "iopub.status.idle": "2023-02-28T16:27:05.204395Z",
     "shell.execute_reply": "2023-02-28T16:27:05.203409Z"
    },
    "papermill": {
     "duration": 2.83013,
     "end_time": "2023-02-28T16:27:05.206764",
     "exception": false,
     "start_time": "2023-02-28T16:27:02.376634",
     "status": "completed"
    },
    "tags": []
   },
   "outputs": [
    {
     "name": "stdout",
     "output_type": "stream",
     "text": [
      "748/748 [==============================] - 2s 3ms/step\n"
     ]
    },
    {
     "data": {
      "text/plain": [
       "0.7766259822772111"
      ]
     },
     "execution_count": 34,
     "metadata": {},
     "output_type": "execute_result"
    }
   ],
   "source": [
    "accuracy_score(np.argmax(model.predict(X_test),axis=1),org_y_test)"
   ]
  },
  {
   "cell_type": "code",
   "execution_count": 35,
   "id": "4ce938d2",
   "metadata": {
    "execution": {
     "iopub.execute_input": "2023-02-28T16:27:05.253760Z",
     "iopub.status.busy": "2023-02-28T16:27:05.253454Z",
     "iopub.status.idle": "2023-02-28T16:27:07.868351Z",
     "shell.execute_reply": "2023-02-28T16:27:07.867386Z"
    },
    "papermill": {
     "duration": 2.640876,
     "end_time": "2023-02-28T16:27:07.870559",
     "exception": false,
     "start_time": "2023-02-28T16:27:05.229683",
     "status": "completed"
    },
    "tags": []
   },
   "outputs": [
    {
     "name": "stdout",
     "output_type": "stream",
     "text": [
      "748/748 [==============================] - 2s 2ms/step\n"
     ]
    },
    {
     "data": {
      "text/plain": [
       "0.8041297441899348"
      ]
     },
     "execution_count": 35,
     "metadata": {},
     "output_type": "execute_result"
    }
   ],
   "source": [
    "accuracy_score(np.argmax(model1.predict(X_test),axis=1),org_y_test)"
   ]
  },
  {
   "cell_type": "code",
   "execution_count": 36,
   "id": "8ebf57b4",
   "metadata": {
    "execution": {
     "iopub.execute_input": "2023-02-28T16:27:07.922254Z",
     "iopub.status.busy": "2023-02-28T16:27:07.921920Z",
     "iopub.status.idle": "2023-02-28T16:27:10.814218Z",
     "shell.execute_reply": "2023-02-28T16:27:10.813275Z"
    },
    "papermill": {
     "duration": 2.921011,
     "end_time": "2023-02-28T16:27:10.816434",
     "exception": false,
     "start_time": "2023-02-28T16:27:07.895423",
     "status": "completed"
    },
    "tags": []
   },
   "outputs": [
    {
     "name": "stdout",
     "output_type": "stream",
     "text": [
      "748/748 [==============================] - 3s 3ms/step\n"
     ]
    },
    {
     "data": {
      "text/plain": [
       "0.8054255141280723"
      ]
     },
     "execution_count": 36,
     "metadata": {},
     "output_type": "execute_result"
    }
   ],
   "source": [
    "accuracy_score(np.argmax(model2.predict(X_test),axis=1),org_y_test)"
   ]
  },
  {
   "cell_type": "markdown",
   "id": "3c3d27c8",
   "metadata": {
    "papermill": {
     "duration": 0.026177,
     "end_time": "2023-02-28T16:27:10.869965",
     "exception": false,
     "start_time": "2023-02-28T16:27:10.843788",
     "status": "completed"
    },
    "tags": []
   },
   "source": [
    "**Ensembled model accuracy**"
   ]
  },
  {
   "cell_type": "code",
   "execution_count": 37,
   "id": "44cee876",
   "metadata": {
    "execution": {
     "iopub.execute_input": "2023-02-28T16:27:10.924513Z",
     "iopub.status.busy": "2023-02-28T16:27:10.923657Z",
     "iopub.status.idle": "2023-02-28T16:27:10.940023Z",
     "shell.execute_reply": "2023-02-28T16:27:10.938925Z"
    },
    "papermill": {
     "duration": 0.046309,
     "end_time": "2023-02-28T16:27:10.942496",
     "exception": false,
     "start_time": "2023-02-28T16:27:10.896187",
     "status": "completed"
    },
    "tags": []
   },
   "outputs": [
    {
     "data": {
      "text/plain": [
       "0.8065958869754222"
      ]
     },
     "execution_count": 37,
     "metadata": {},
     "output_type": "execute_result"
    }
   ],
   "source": [
    "accuracy_score(k,org_y_test)  "
   ]
  }
 ],
 "metadata": {
  "kernelspec": {
   "display_name": "Python 3",
   "language": "python",
   "name": "python3"
  },
  "language_info": {
   "codemirror_mode": {
    "name": "ipython",
    "version": 3
   },
   "file_extension": ".py",
   "mimetype": "text/x-python",
   "name": "python",
   "nbconvert_exporter": "python",
   "pygments_lexer": "ipython3",
   "version": "3.7.12"
  },
  "papermill": {
   "default_parameters": {},
   "duration": 1166.240779,
   "end_time": "2023-02-28T16:27:14.370206",
   "environment_variables": {},
   "exception": null,
   "input_path": "__notebook__.ipynb",
   "output_path": "__notebook__.ipynb",
   "parameters": {},
   "start_time": "2023-02-28T16:07:48.129427",
   "version": "2.4.0"
  }
 },
 "nbformat": 4,
 "nbformat_minor": 5
}

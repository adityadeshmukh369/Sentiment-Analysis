{
 "cells": [
  {
   "cell_type": "code",
   "execution_count": 1,
   "id": "b4bc331e",
   "metadata": {
    "execution": {
     "iopub.execute_input": "2023-08-03T15:53:37.573539Z",
     "iopub.status.busy": "2023-08-03T15:53:37.573032Z",
     "iopub.status.idle": "2023-08-03T15:53:37.622276Z",
     "shell.execute_reply": "2023-08-03T15:53:37.621116Z"
    },
    "papermill": {
     "duration": 0.065594,
     "end_time": "2023-08-03T15:53:37.625354",
     "exception": false,
     "start_time": "2023-08-03T15:53:37.559760",
     "status": "completed"
    },
    "tags": []
   },
   "outputs": [
    {
     "name": "stdout",
     "output_type": "stream",
     "text": [
      "/kaggle/input/stanford-sentiment-treebank/stanfordSentimentTreebank/datasetSentences.txt\n",
      "/kaggle/input/stanford-sentiment-treebank/stanfordSentimentTreebank/STree.txt\n",
      "/kaggle/input/stanford-sentiment-treebank/stanfordSentimentTreebank/README.txt\n",
      "/kaggle/input/stanford-sentiment-treebank/stanfordSentimentTreebank/original_rt_snippets.txt\n",
      "/kaggle/input/stanford-sentiment-treebank/stanfordSentimentTreebank/SOStr.txt\n",
      "/kaggle/input/stanford-sentiment-treebank/stanfordSentimentTreebank/dictionary.txt\n",
      "/kaggle/input/stanford-sentiment-treebank/stanfordSentimentTreebank/sentiment_labels.txt\n",
      "/kaggle/input/stanford-sentiment-treebank/stanfordSentimentTreebank/datasetSplit.txt\n",
      "/kaggle/input/stanford-sentiment-treebank-v2-sst2/BERT-SST2-Dataset-Paper.pdf\n",
      "/kaggle/input/stanford-sentiment-treebank-v2-sst2/Writing Code for NLP Research.pdf\n",
      "/kaggle/input/stanford-sentiment-treebank-v2-sst2/SST2-Data/SST2-Data/stanfordSentimentTreebankRaw/stanfordSentimentTreebankRaw/README.txt\n",
      "/kaggle/input/stanford-sentiment-treebank-v2-sst2/SST2-Data/SST2-Data/stanfordSentimentTreebankRaw/stanfordSentimentTreebankRaw/sentlex_exp12.txt\n",
      "/kaggle/input/stanford-sentiment-treebank-v2-sst2/SST2-Data/SST2-Data/stanfordSentimentTreebankRaw/stanfordSentimentTreebankRaw/rawscores_exp12.txt\n",
      "/kaggle/input/stanford-sentiment-treebank-v2-sst2/SST2-Data/SST2-Data/trainDevTestTrees_PTB/trees/test.txt\n",
      "/kaggle/input/stanford-sentiment-treebank-v2-sst2/SST2-Data/SST2-Data/trainDevTestTrees_PTB/trees/train.txt\n",
      "/kaggle/input/stanford-sentiment-treebank-v2-sst2/SST2-Data/SST2-Data/trainDevTestTrees_PTB/trees/dev.txt\n",
      "/kaggle/input/stanford-sentiment-treebank-v2-sst2/SST2-Data/SST2-Data/stanfordSentimentTreebank/stanfordSentimentTreebank/datasetSentences.txt\n",
      "/kaggle/input/stanford-sentiment-treebank-v2-sst2/SST2-Data/SST2-Data/stanfordSentimentTreebank/stanfordSentimentTreebank/STree.txt\n",
      "/kaggle/input/stanford-sentiment-treebank-v2-sst2/SST2-Data/SST2-Data/stanfordSentimentTreebank/stanfordSentimentTreebank/README.txt\n",
      "/kaggle/input/stanford-sentiment-treebank-v2-sst2/SST2-Data/SST2-Data/stanfordSentimentTreebank/stanfordSentimentTreebank/original_rt_snippets.txt\n",
      "/kaggle/input/stanford-sentiment-treebank-v2-sst2/SST2-Data/SST2-Data/stanfordSentimentTreebank/stanfordSentimentTreebank/SOStr.txt\n",
      "/kaggle/input/stanford-sentiment-treebank-v2-sst2/SST2-Data/SST2-Data/stanfordSentimentTreebank/stanfordSentimentTreebank/dictionary.txt\n",
      "/kaggle/input/stanford-sentiment-treebank-v2-sst2/SST2-Data/SST2-Data/stanfordSentimentTreebank/stanfordSentimentTreebank/sentiment_labels.txt\n",
      "/kaggle/input/stanford-sentiment-treebank-v2-sst2/SST2-Data/SST2-Data/stanfordSentimentTreebank/stanfordSentimentTreebank/datasetSplit.txt\n"
     ]
    }
   ],
   "source": [
    "import numpy as np \n",
    "import pandas as pd \n",
    "\n",
    "import os\n",
    "for dirname, _, filenames in os.walk('/kaggle/input'):\n",
    "    for filename in filenames:\n",
    "        print(os.path.join(dirname, filename))"
   ]
  },
  {
   "cell_type": "code",
   "execution_count": 2,
   "id": "af6bdcd6",
   "metadata": {
    "execution": {
     "iopub.execute_input": "2023-08-03T15:53:37.649053Z",
     "iopub.status.busy": "2023-08-03T15:53:37.648034Z",
     "iopub.status.idle": "2023-08-03T15:53:50.082087Z",
     "shell.execute_reply": "2023-08-03T15:53:50.078975Z"
    },
    "papermill": {
     "duration": 12.449088,
     "end_time": "2023-08-03T15:53:50.085103",
     "exception": false,
     "start_time": "2023-08-03T15:53:37.636015",
     "status": "completed"
    },
    "tags": []
   },
   "outputs": [
    {
     "name": "stdout",
     "output_type": "stream",
     "text": [
      "1.13.0\n",
      "[nltk_data] Downloading package stopwords to /usr/share/nltk_data...\n",
      "[nltk_data]   Package stopwords is already up-to-date!\n",
      "[nltk_data] Downloading package punkt to /usr/share/nltk_data...\n",
      "[nltk_data]   Package punkt is already up-to-date!\n"
     ]
    }
   ],
   "source": [
    "import math,copy,re\n",
    "import warnings\n",
    "import pandas as pd\n",
    "import pickle\n",
    "import numpy as np\n",
    "import seaborn as sns\n",
    "import torch\n",
    "from sklearn.metrics import accuracy_score\n",
    "import torchtext\n",
    "import matplotlib.pyplot as plt\n",
    "warnings.simplefilter(\"ignore\")\n",
    "print(torch.__version__)\n",
    "from torchtext.data.utils import get_tokenizer\n",
    "import tensorflow as tf\n",
    "from nltk.tokenize import word_tokenize\n",
    "import keras\n",
    "import nltk\n",
    "nltk.download('stopwords')\n",
    "nltk.download('punkt')\n",
    "from nltk.corpus import stopwords\n",
    "stop_words = set(stopwords.words('english'))"
   ]
  },
  {
   "cell_type": "code",
   "execution_count": 3,
   "id": "27a12bff",
   "metadata": {
    "execution": {
     "iopub.execute_input": "2023-08-03T15:53:50.112789Z",
     "iopub.status.busy": "2023-08-03T15:53:50.111975Z",
     "iopub.status.idle": "2023-08-03T15:53:50.118089Z",
     "shell.execute_reply": "2023-08-03T15:53:50.116621Z"
    },
    "papermill": {
     "duration": 0.023201,
     "end_time": "2023-08-03T15:53:50.121116",
     "exception": false,
     "start_time": "2023-08-03T15:53:50.097915",
     "status": "completed"
    },
    "tags": []
   },
   "outputs": [],
   "source": [
    "all_models = []"
   ]
  },
  {
   "cell_type": "code",
   "execution_count": 4,
   "id": "2ded4b42",
   "metadata": {
    "execution": {
     "iopub.execute_input": "2023-08-03T15:53:50.147432Z",
     "iopub.status.busy": "2023-08-03T15:53:50.147012Z",
     "iopub.status.idle": "2023-08-03T15:53:51.222678Z",
     "shell.execute_reply": "2023-08-03T15:53:51.221539Z"
    },
    "papermill": {
     "duration": 1.092237,
     "end_time": "2023-08-03T15:53:51.225761",
     "exception": false,
     "start_time": "2023-08-03T15:53:50.133524",
     "status": "completed"
    },
    "tags": []
   },
   "outputs": [],
   "source": [
    "sentiments = pd.read_csv(\"/kaggle/input/stanford-sentiment-treebank-v2-sst2/SST2-Data/SST2-Data/stanfordSentimentTreebank/stanfordSentimentTreebank/sentiment_labels.txt\", delimiter='|')\n",
    "dataset_phrases = pd.read_csv(\"/kaggle/input/stanford-sentiment-treebank-v2-sst2/SST2-Data/SST2-Data/stanfordSentimentTreebank/stanfordSentimentTreebank/dictionary.txt\", delimiter='|')\n",
    "dataset_phrases.sort_values('0',inplace = True)\n",
    "dataset_phrases.set_index('0', inplace=True)\n",
    "df = pd.concat([dataset_phrases,sentiments], axis=1)\n",
    "df.isnull()\n",
    "df.dropna(how = 'any', axis = 0, inplace = True)\n",
    "p = []\n",
    "a = 0.333\n",
    "b = 0.666\n",
    "for i in list(df['sentiment values']):\n",
    "    if (i>=0 and i<=a): \n",
    "        p.append(0)\n",
    "    elif i>a and i<=b:\n",
    "        p.append(1)\n",
    "    else:\n",
    "        p.append(2)\n",
    "p[:3]\n",
    "\n",
    "X = df['!'].astype('str')\n",
    "y = p\n",
    "from sklearn.model_selection import train_test_split\n",
    "X_train, X_test, y_train, y_test = train_test_split(X, y,stratify = y,test_size=0.1)\n",
    "org_y_train = y_train\n",
    "org_y_test = y_test"
   ]
  },
  {
   "cell_type": "code",
   "execution_count": 5,
   "id": "f324b4de",
   "metadata": {
    "execution": {
     "iopub.execute_input": "2023-08-03T15:53:51.248177Z",
     "iopub.status.busy": "2023-08-03T15:53:51.247852Z",
     "iopub.status.idle": "2023-08-03T15:53:59.488587Z",
     "shell.execute_reply": "2023-08-03T15:53:59.487432Z"
    },
    "papermill": {
     "duration": 8.255554,
     "end_time": "2023-08-03T15:53:59.492027",
     "exception": false,
     "start_time": "2023-08-03T15:53:51.236473",
     "status": "completed"
    },
    "tags": []
   },
   "outputs": [],
   "source": [
    "from tensorflow.keras.preprocessing.text import Tokenizer\n",
    "from tensorflow.keras.preprocessing.sequence import pad_sequences\n",
    "tokenizer = Tokenizer(oov_token= '<0VV>') \n",
    "tokenizer.fit_on_texts(X_train.astype(str)) \n",
    "word_index_ = tokenizer.word_index\n",
    "vocab_size = 18079\n",
    "\n",
    "sequence_train = tokenizer.texts_to_sequences(X_train)\n",
    "sequence_test = tokenizer.texts_to_sequences(X_test)\n",
    "padded_train = pad_sequences(sequence_train, maxlen= 52)\n",
    "padded_test = pad_sequences(sequence_test, maxlen= 52)\n",
    "\n",
    "X_train = padded_train\n",
    "X_test = padded_test\n",
    "y_train = tf.keras.utils.to_categorical(y_train,num_classes= 3)"
   ]
  },
  {
   "cell_type": "markdown",
   "id": "ae3b9e5a",
   "metadata": {
    "papermill": {
     "duration": 0.010345,
     "end_time": "2023-08-03T15:53:59.513358",
     "exception": false,
     "start_time": "2023-08-03T15:53:59.503013",
     "status": "completed"
    },
    "tags": []
   },
   "source": [
    "# **Model 0**"
   ]
  },
  {
   "cell_type": "code",
   "execution_count": 6,
   "id": "78eeb6a9",
   "metadata": {
    "execution": {
     "iopub.execute_input": "2023-08-03T15:53:59.536482Z",
     "iopub.status.busy": "2023-08-03T15:53:59.536059Z",
     "iopub.status.idle": "2023-08-03T15:54:05.185899Z",
     "shell.execute_reply": "2023-08-03T15:54:05.184799Z"
    },
    "papermill": {
     "duration": 5.664835,
     "end_time": "2023-08-03T15:54:05.188885",
     "exception": false,
     "start_time": "2023-08-03T15:53:59.524050",
     "status": "completed"
    },
    "tags": []
   },
   "outputs": [],
   "source": [
    "class MultiHeadAttention(tf.keras.layers.Layer):\n",
    "    def __init__(self,d_model):\n",
    "        super(MultiHeadAttention, self).__init__()\n",
    "        \n",
    "        self.wq = tf.keras.layers.Dense(d_model)\n",
    "        self.wk = tf.keras.layers.Dense(d_model)\n",
    "        self.d_model = d_model\n",
    "    def scaled_dot_product_attention(self, q, k, mask):\n",
    "        matmul_qk = tf.matmul(q, k, transpose_b=True)\n",
    "        dk = tf.cast(tf.shape(k)[-1], tf.float32)\n",
    "        scaled_scores = matmul_qk / tf.math.sqrt(dk)\n",
    "        \n",
    "        if mask is not None:\n",
    "            scaled_scores += (mask * -1e9)\n",
    "        attention_weights = tf.nn.softmax(scaled_scores, axis=-1)\n",
    "        return attention_weights\n",
    "    \n",
    "    def call(self, q, k, mask=None):\n",
    "        batch_size = tf.shape(q)[0]\n",
    "        q = self.wq(q)\n",
    "        k = self.wk(k)\n",
    "        attention_weights = self.scaled_dot_product_attention(q, k, mask)\n",
    "        return attention_weights\n",
    "\n",
    "class SentimentAnalysisModel(tf.keras.Model):\n",
    "    def __init__(self, vocab_size, embedding_dim, ff_dim, max_seq_length,num_classes):\n",
    "        super(SentimentAnalysisModel, self).__init__()\n",
    "        \n",
    "        self.embedding = tf.keras.layers.Embedding(vocab_size, embedding_dim, input_length=max_seq_length)\n",
    "        self.attention = MultiHeadAttention(embedding_dim)\n",
    "        self.dense1 = tf.keras.layers.Dense(ff_dim, activation='relu')\n",
    "        self.dropout = tf.keras.layers.Dropout(0.1)\n",
    "        self.dense2 = tf.keras.layers.Dense(num_classes, activation='softmax')\n",
    "        self.dense3 = tf.keras.layers.Dense(units = 1)\n",
    "\n",
    "        \n",
    "    def call(self, inputs):\n",
    "        x = self.embedding(inputs)\n",
    "        att_weights = self.attention(x, x)\n",
    "        x = self.dense1(x)\n",
    "        x = self.dropout(x)\n",
    "        x = self.dense2(x)\n",
    "        att_weights = tf.squeeze(att_weights)\n",
    "        att_weights = tf.reduce_mean(att_weights, axis=1)\n",
    "        att_weights = tf.expand_dims(att_weights,axis=1)\n",
    "        att_weights = tf.transpose(att_weights,perm=[0,2,1])\n",
    "        y_pred_att = tf.reduce_sum(x*att_weights, axis=1)\n",
    "        return y_pred_att\n",
    "\n",
    "    def predict_fun(self,x):\n",
    "        y = self.call(x)\n",
    "        y = y.numpy()\n",
    "        return tf.nn.softmax(y) \n",
    "\n",
    "\n",
    "embedding_dim = 128\n",
    "num_classes = 3\n",
    "ff_dim = 64\n",
    "num_epochs = 7\n",
    "max_seq_length = 100\n",
    "learning_rate = 0.01\n",
    "\n",
    "model = SentimentAnalysisModel(vocab_size, embedding_dim, ff_dim, max_seq_length, num_classes)\n",
    "optimizer = keras.optimizers.Nadam(lr=0.01)\n",
    "model.build(input_shape=(None, max_seq_length)) "
   ]
  },
  {
   "cell_type": "code",
   "execution_count": 7,
   "id": "d17dd983",
   "metadata": {
    "execution": {
     "iopub.execute_input": "2023-08-03T15:54:05.213096Z",
     "iopub.status.busy": "2023-08-03T15:54:05.212741Z",
     "iopub.status.idle": "2023-08-03T15:54:05.218855Z",
     "shell.execute_reply": "2023-08-03T15:54:05.217633Z"
    },
    "papermill": {
     "duration": 0.021383,
     "end_time": "2023-08-03T15:54:05.221480",
     "exception": false,
     "start_time": "2023-08-03T15:54:05.200097",
     "status": "completed"
    },
    "tags": []
   },
   "outputs": [],
   "source": [
    "epoch = 8\n",
    "sentiment = [0,1,2]\n",
    "callback= tf.keras.callbacks.EarlyStopping(monitor=\"val_accuracy\",patience=3, verbose=2, mode=\"auto\", restore_best_weights=True)"
   ]
  },
  {
   "cell_type": "code",
   "execution_count": 8,
   "id": "3d640471",
   "metadata": {
    "execution": {
     "iopub.execute_input": "2023-08-03T15:54:05.244203Z",
     "iopub.status.busy": "2023-08-03T15:54:05.243883Z",
     "iopub.status.idle": "2023-08-03T15:59:03.504235Z",
     "shell.execute_reply": "2023-08-03T15:59:03.502945Z"
    },
    "papermill": {
     "duration": 298.282808,
     "end_time": "2023-08-03T15:59:03.515137",
     "exception": false,
     "start_time": "2023-08-03T15:54:05.232329",
     "status": "completed"
    },
    "tags": []
   },
   "outputs": [
    {
     "name": "stdout",
     "output_type": "stream",
     "text": [
      "Epoch 1/8\n",
      "6056/6056 - 65s - loss: 0.5959 - accuracy: 0.7436 - val_loss: 0.5463 - val_accuracy: 0.7658 - 65s/epoch - 11ms/step\n",
      "Epoch 2/8\n",
      "6056/6056 - 34s - loss: 0.5074 - accuracy: 0.7783 - val_loss: 0.5326 - val_accuracy: 0.7719 - 34s/epoch - 6ms/step\n",
      "Epoch 3/8\n",
      "6056/6056 - 34s - loss: 0.4762 - accuracy: 0.7905 - val_loss: 0.5288 - val_accuracy: 0.7767 - 34s/epoch - 6ms/step\n",
      "Epoch 4/8\n",
      "6056/6056 - 33s - loss: 0.4592 - accuracy: 0.7970 - val_loss: 0.5275 - val_accuracy: 0.7786 - 33s/epoch - 6ms/step\n",
      "Epoch 5/8\n",
      "6056/6056 - 32s - loss: 0.4484 - accuracy: 0.8006 - val_loss: 0.5334 - val_accuracy: 0.7783 - 32s/epoch - 5ms/step\n",
      "Epoch 6/8\n",
      "6056/6056 - 32s - loss: 0.4411 - accuracy: 0.8027 - val_loss: 0.5373 - val_accuracy: 0.7787 - 32s/epoch - 5ms/step\n",
      "Epoch 7/8\n",
      "6056/6056 - 33s - loss: 0.4353 - accuracy: 0.8051 - val_loss: 0.5400 - val_accuracy: 0.7783 - 33s/epoch - 5ms/step\n",
      "Epoch 8/8\n",
      "6056/6056 - 33s - loss: 0.4309 - accuracy: 0.8070 - val_loss: 0.5383 - val_accuracy: 0.7787 - 33s/epoch - 5ms/step\n"
     ]
    }
   ],
   "source": [
    "X_train, X_val, y_train, y_val = train_test_split(X_train, y_train,stratify = y_train ,test_size=0.1)\n",
    "model.compile(loss= \"categorical_crossentropy\", optimizer=\"adam\", metrics=[\"accuracy\"])\n",
    "history = model.fit(X_train, y_train, epochs = epoch, verbose=2, validation_data=(X_val,y_val), callbacks = [callback])"
   ]
  },
  {
   "cell_type": "code",
   "execution_count": 9,
   "id": "3feefb7a",
   "metadata": {
    "execution": {
     "iopub.execute_input": "2023-08-03T15:59:03.540203Z",
     "iopub.status.busy": "2023-08-03T15:59:03.539879Z",
     "iopub.status.idle": "2023-08-03T15:59:03.799867Z",
     "shell.execute_reply": "2023-08-03T15:59:03.798814Z"
    },
    "papermill": {
     "duration": 0.275364,
     "end_time": "2023-08-03T15:59:03.802504",
     "exception": false,
     "start_time": "2023-08-03T15:59:03.527140",
     "status": "completed"
    },
    "tags": []
   },
   "outputs": [
    {
     "data": {
      "image/png": "[encoded data removed]",
      "text/plain": [
       "<Figure size 640x480 with 1 Axes>"
      ]
     },
     "metadata": {},
     "output_type": "display_data"
    }
   ],
   "source": [
    "plt.plot(history.history['accuracy'], 'b')\n",
    "plt.plot(history.history['val_accuracy'], 'r')\n",
    "plt.title('Model Accuracy'),\n",
    "plt.xlabel('Epochs')\n",
    "plt.ylabel('Accuracy')\n",
    "plt.legend(['Train', 'Validation'], loc='upper left')\n",
    "plt.show()"
   ]
  },
  {
   "cell_type": "code",
   "execution_count": 10,
   "id": "c416b489",
   "metadata": {
    "execution": {
     "iopub.execute_input": "2023-08-03T15:59:03.829855Z",
     "iopub.status.busy": "2023-08-03T15:59:03.828795Z",
     "iopub.status.idle": "2023-08-03T15:59:03.837633Z",
     "shell.execute_reply": "2023-08-03T15:59:03.836358Z"
    },
    "papermill": {
     "duration": 0.025304,
     "end_time": "2023-08-03T15:59:03.840812",
     "exception": false,
     "start_time": "2023-08-03T15:59:03.815508",
     "status": "completed"
    },
    "tags": []
   },
   "outputs": [
    {
     "name": "stdout",
     "output_type": "stream",
     "text": [
      "(23924, 3) (23924, 52)\n"
     ]
    }
   ],
   "source": [
    "y_test = tf.keras.utils.to_categorical(y_test, num_classes= 3)\n",
    "print(y_test.shape, X_test.shape)"
   ]
  },
  {
   "cell_type": "code",
   "execution_count": 11,
   "id": "4eceda9b",
   "metadata": {
    "execution": {
     "iopub.execute_input": "2023-08-03T15:59:03.867063Z",
     "iopub.status.busy": "2023-08-03T15:59:03.866274Z",
     "iopub.status.idle": "2023-08-03T15:59:05.996541Z",
     "shell.execute_reply": "2023-08-03T15:59:05.995445Z"
    },
    "papermill": {
     "duration": 2.146311,
     "end_time": "2023-08-03T15:59:05.999190",
     "exception": false,
     "start_time": "2023-08-03T15:59:03.852879",
     "status": "completed"
    },
    "tags": []
   },
   "outputs": [
    {
     "name": "stdout",
     "output_type": "stream",
     "text": [
      "Test accuracy: 0.7733238339424133\n"
     ]
    }
   ],
   "source": [
    "scores = model.evaluate(X_test, y_test, verbose=0)\n",
    "print('Test accuracy:', scores[1])"
   ]
  },
  {
   "cell_type": "code",
   "execution_count": 12,
   "id": "7e6e4b99",
   "metadata": {
    "execution": {
     "iopub.execute_input": "2023-08-03T15:59:06.025930Z",
     "iopub.status.busy": "2023-08-03T15:59:06.025604Z",
     "iopub.status.idle": "2023-08-03T15:59:08.656639Z",
     "shell.execute_reply": "2023-08-03T15:59:08.655520Z"
    },
    "papermill": {
     "duration": 2.648009,
     "end_time": "2023-08-03T15:59:08.659767",
     "exception": false,
     "start_time": "2023-08-03T15:59:06.011758",
     "status": "completed"
    },
    "tags": []
   },
   "outputs": [
    {
     "name": "stdout",
     "output_type": "stream",
     "text": [
      "748/748 [==============================] - 2s 2ms/step\n"
     ]
    }
   ],
   "source": [
    "a = model.predict(X_test)"
   ]
  },
  {
   "cell_type": "code",
   "execution_count": 13,
   "id": "b6af063a",
   "metadata": {
    "execution": {
     "iopub.execute_input": "2023-08-03T15:59:08.692930Z",
     "iopub.status.busy": "2023-08-03T15:59:08.692611Z",
     "iopub.status.idle": "2023-08-03T15:59:08.697188Z",
     "shell.execute_reply": "2023-08-03T15:59:08.696116Z"
    },
    "papermill": {
     "duration": 0.023704,
     "end_time": "2023-08-03T15:59:08.699677",
     "exception": false,
     "start_time": "2023-08-03T15:59:08.675973",
     "status": "completed"
    },
    "tags": []
   },
   "outputs": [],
   "source": [
    "all_models.append(model)"
   ]
  },
  {
   "cell_type": "markdown",
   "id": "e9561b38",
   "metadata": {
    "papermill": {
     "duration": 0.014881,
     "end_time": "2023-08-03T15:59:08.729410",
     "exception": false,
     "start_time": "2023-08-03T15:59:08.714529",
     "status": "completed"
    },
    "tags": []
   },
   "source": [
    "# **Model 1**"
   ]
  },
  {
   "cell_type": "code",
   "execution_count": 14,
   "id": "4a8d806e",
   "metadata": {
    "execution": {
     "iopub.execute_input": "2023-08-03T15:59:08.760613Z",
     "iopub.status.busy": "2023-08-03T15:59:08.760301Z",
     "iopub.status.idle": "2023-08-03T15:59:09.103090Z",
     "shell.execute_reply": "2023-08-03T15:59:09.101947Z"
    },
    "papermill": {
     "duration": 0.362101,
     "end_time": "2023-08-03T15:59:09.106350",
     "exception": false,
     "start_time": "2023-08-03T15:59:08.744249",
     "status": "completed"
    },
    "tags": []
   },
   "outputs": [],
   "source": [
    "from keras.layers import LSTM\n",
    "model1 = keras.models.Sequential()\n",
    "model1.add(keras.layers.Embedding(18079+1, 52, input_length=52)) \n",
    "model1.add(LSTM(100))\n",
    "model1.add(keras.layers.Dense(10, activation=\"relu\"))\n",
    "model1.add(keras.layers.Dense(3, activation=\"softmax\")) "
   ]
  },
  {
   "cell_type": "code",
   "execution_count": 15,
   "id": "8aa6d671",
   "metadata": {
    "execution": {
     "iopub.execute_input": "2023-08-03T15:59:09.139850Z",
     "iopub.status.busy": "2023-08-03T15:59:09.139439Z",
     "iopub.status.idle": "2023-08-03T15:59:09.161448Z",
     "shell.execute_reply": "2023-08-03T15:59:09.160432Z"
    },
    "papermill": {
     "duration": 0.053403,
     "end_time": "2023-08-03T15:59:09.175247",
     "exception": false,
     "start_time": "2023-08-03T15:59:09.121844",
     "status": "completed"
    },
    "tags": []
   },
   "outputs": [
    {
     "name": "stdout",
     "output_type": "stream",
     "text": [
      "Model: \"sequential\"\n",
      "_________________________________________________________________\n",
      " Layer (type)                Output Shape              Param #   \n",
      "=================================================================\n",
      " embedding_1 (Embedding)     (None, 52, 52)            940160    \n",
      "                                                                 \n",
      " lstm (LSTM)                 (None, 100)               61200     \n",
      "                                                                 \n",
      " dense_5 (Dense)             (None, 10)                1010      \n",
      "                                                                 \n",
      " dense_6 (Dense)             (None, 3)                 33        \n",
      "                                                                 \n",
      "=================================================================\n",
      "Total params: 1,002,403\n",
      "Trainable params: 1,002,403\n",
      "Non-trainable params: 0\n",
      "_________________________________________________________________\n"
     ]
    }
   ],
   "source": [
    "model1.summary()"
   ]
  },
  {
   "cell_type": "code",
   "execution_count": 16,
   "id": "eb3a58ab",
   "metadata": {
    "execution": {
     "iopub.execute_input": "2023-08-03T15:59:09.210583Z",
     "iopub.status.busy": "2023-08-03T15:59:09.209922Z",
     "iopub.status.idle": "2023-08-03T15:59:09.226283Z",
     "shell.execute_reply": "2023-08-03T15:59:09.225207Z"
    },
    "papermill": {
     "duration": 0.036822,
     "end_time": "2023-08-03T15:59:09.228769",
     "exception": false,
     "start_time": "2023-08-03T15:59:09.191947",
     "status": "completed"
    },
    "tags": []
   },
   "outputs": [],
   "source": [
    "model1.compile(loss= \"categorical_crossentropy\", optimizer=\"adam\", metrics=[\"accuracy\"])"
   ]
  },
  {
   "cell_type": "code",
   "execution_count": 17,
   "id": "f081e821",
   "metadata": {
    "execution": {
     "iopub.execute_input": "2023-08-03T15:59:09.264401Z",
     "iopub.status.busy": "2023-08-03T15:59:09.263293Z",
     "iopub.status.idle": "2023-08-03T16:05:40.978190Z",
     "shell.execute_reply": "2023-08-03T16:05:40.976629Z"
    },
    "papermill": {
     "duration": 391.736851,
     "end_time": "2023-08-03T16:05:40.982301",
     "exception": false,
     "start_time": "2023-08-03T15:59:09.245450",
     "status": "completed"
    },
    "tags": []
   },
   "outputs": [
    {
     "name": "stdout",
     "output_type": "stream",
     "text": [
      "Epoch 1/8\n",
      "6056/6056 - 78s - loss: 0.5796 - accuracy: 0.7592 - val_loss: 0.4962 - val_accuracy: 0.7931 - 78s/epoch - 13ms/step\n",
      "Epoch 2/8\n",
      "6056/6056 - 46s - loss: 0.4507 - accuracy: 0.8093 - val_loss: 0.4718 - val_accuracy: 0.8022 - 46s/epoch - 8ms/step\n",
      "Epoch 3/8\n",
      "6056/6056 - 45s - loss: 0.4021 - accuracy: 0.8282 - val_loss: 0.4694 - val_accuracy: 0.8067 - 45s/epoch - 7ms/step\n",
      "Epoch 4/8\n",
      "6056/6056 - 45s - loss: 0.3695 - accuracy: 0.8420 - val_loss: 0.4841 - val_accuracy: 0.8061 - 45s/epoch - 7ms/step\n",
      "Epoch 5/8\n",
      "6056/6056 - 45s - loss: 0.3443 - accuracy: 0.8517 - val_loss: 0.4947 - val_accuracy: 0.8070 - 45s/epoch - 7ms/step\n",
      "Epoch 6/8\n",
      "6056/6056 - 44s - loss: 0.3228 - accuracy: 0.8593 - val_loss: 0.5041 - val_accuracy: 0.8017 - 44s/epoch - 7ms/step\n",
      "Epoch 7/8\n",
      "6056/6056 - 45s - loss: 0.3035 - accuracy: 0.8667 - val_loss: 0.5277 - val_accuracy: 0.7993 - 45s/epoch - 7ms/step\n",
      "Epoch 8/8\n",
      "Restoring model weights from the end of the best epoch: 5.\n",
      "6056/6056 - 44s - loss: 0.2858 - accuracy: 0.8741 - val_loss: 0.5531 - val_accuracy: 0.8021 - 44s/epoch - 7ms/step\n",
      "Epoch 8: early stopping\n"
     ]
    }
   ],
   "source": [
    "history = model1.fit(X_train, y_train, epochs = epoch, verbose=2, validation_data=(X_val,y_val), callbacks = [callback]) # the validation data should be provied as tuple or less there is a huge error in format matching"
   ]
  },
  {
   "cell_type": "code",
   "execution_count": 18,
   "id": "6a875512",
   "metadata": {
    "execution": {
     "iopub.execute_input": "2023-08-03T16:05:41.019416Z",
     "iopub.status.busy": "2023-08-03T16:05:41.019008Z",
     "iopub.status.idle": "2023-08-03T16:06:33.480403Z",
     "shell.execute_reply": "2023-08-03T16:06:33.479351Z"
    },
    "papermill": {
     "duration": 52.500556,
     "end_time": "2023-08-03T16:06:33.500488",
     "exception": false,
     "start_time": "2023-08-03T16:05:40.999932",
     "status": "completed"
    },
    "tags": []
   },
   "outputs": [
    {
     "data": {
      "image/png": "[encoded data removed]",
      "text/plain": [
       "<Figure size 640x480 with 1 Axes>"
      ]
     },
     "metadata": {},
     "output_type": "display_data"
    }
   ],
   "source": [
    "plt.plot(history.history['accuracy'], 'b')\n",
    "plt.plot(history.history['val_accuracy'], 'r')\n",
    "plt.title('Model Accuracy'),\n",
    "plt.xlabel('Epochs')\n",
    "plt.ylabel('Accuracy')\n",
    "plt.legend(['Train', 'Validation'], loc='upper left')\n",
    "plt.show()"
   ]
  },
  {
   "cell_type": "code",
   "execution_count": 19,
   "id": "af8f43c7",
   "metadata": {
    "execution": {
     "iopub.execute_input": "2023-08-03T16:06:33.539556Z",
     "iopub.status.busy": "2023-08-03T16:06:33.537826Z",
     "iopub.status.idle": "2023-08-03T16:06:36.257611Z",
     "shell.execute_reply": "2023-08-03T16:06:36.256501Z"
    },
    "papermill": {
     "duration": 2.741546,
     "end_time": "2023-08-03T16:06:36.260046",
     "exception": false,
     "start_time": "2023-08-03T16:06:33.518500",
     "status": "completed"
    },
    "tags": []
   },
   "outputs": [
    {
     "name": "stdout",
     "output_type": "stream",
     "text": [
      "Test accuracy: 0.8061360716819763\n"
     ]
    }
   ],
   "source": [
    "scores = model1.evaluate(X_test, y_test, verbose=0)\n",
    "print('Test accuracy:', scores[1])"
   ]
  },
  {
   "cell_type": "code",
   "execution_count": 20,
   "id": "0425d87d",
   "metadata": {
    "execution": {
     "iopub.execute_input": "2023-08-03T16:06:36.299675Z",
     "iopub.status.busy": "2023-08-03T16:06:36.298180Z",
     "iopub.status.idle": "2023-08-03T16:06:36.304192Z",
     "shell.execute_reply": "2023-08-03T16:06:36.303131Z"
    },
    "papermill": {
     "duration": 0.028165,
     "end_time": "2023-08-03T16:06:36.306859",
     "exception": false,
     "start_time": "2023-08-03T16:06:36.278694",
     "status": "completed"
    },
    "tags": []
   },
   "outputs": [],
   "source": [
    "all_models.append(model1)"
   ]
  },
  {
   "cell_type": "markdown",
   "id": "8766fd4e",
   "metadata": {
    "papermill": {
     "duration": 0.018055,
     "end_time": "2023-08-03T16:06:36.343176",
     "exception": false,
     "start_time": "2023-08-03T16:06:36.325121",
     "status": "completed"
    },
    "tags": []
   },
   "source": [
    "# **Model 2**"
   ]
  },
  {
   "cell_type": "code",
   "execution_count": 21,
   "id": "7f1c1f80",
   "metadata": {
    "execution": {
     "iopub.execute_input": "2023-08-03T16:06:36.382740Z",
     "iopub.status.busy": "2023-08-03T16:06:36.381507Z",
     "iopub.status.idle": "2023-08-03T16:06:36.983194Z",
     "shell.execute_reply": "2023-08-03T16:06:36.982099Z"
    },
    "papermill": {
     "duration": 0.624415,
     "end_time": "2023-08-03T16:06:36.986051",
     "exception": false,
     "start_time": "2023-08-03T16:06:36.361636",
     "status": "completed"
    },
    "tags": []
   },
   "outputs": [],
   "source": [
    "from keras.layers import LSTM\n",
    "from keras.layers import Bidirectional, Dense\n",
    "model2 = keras.models.Sequential()\n",
    "model2.add(keras.layers.Embedding(18079+1, 52, input_length=52))\n",
    "model2.add(Bidirectional(LSTM(52)))\n",
    "model2.add(keras.layers.Dense(10, activation=\"relu\"))\n",
    "model2.add(keras.layers.Dense(3, activation=\"softmax\"))"
   ]
  },
  {
   "cell_type": "code",
   "execution_count": 22,
   "id": "8703deb4",
   "metadata": {
    "execution": {
     "iopub.execute_input": "2023-08-03T16:06:37.025236Z",
     "iopub.status.busy": "2023-08-03T16:06:37.024231Z",
     "iopub.status.idle": "2023-08-03T16:06:37.036135Z",
     "shell.execute_reply": "2023-08-03T16:06:37.035421Z"
    },
    "papermill": {
     "duration": 0.033794,
     "end_time": "2023-08-03T16:06:37.038342",
     "exception": false,
     "start_time": "2023-08-03T16:06:37.004548",
     "status": "completed"
    },
    "tags": []
   },
   "outputs": [],
   "source": [
    "model2.compile(loss= \"categorical_crossentropy\", optimizer=\"adam\", metrics=[\"accuracy\"])"
   ]
  },
  {
   "cell_type": "code",
   "execution_count": 23,
   "id": "430b2434",
   "metadata": {
    "execution": {
     "iopub.execute_input": "2023-08-03T16:06:37.077013Z",
     "iopub.status.busy": "2023-08-03T16:06:37.076242Z",
     "iopub.status.idle": "2023-08-03T16:13:54.626449Z",
     "shell.execute_reply": "2023-08-03T16:13:54.625417Z"
    },
    "papermill": {
     "duration": 437.577796,
     "end_time": "2023-08-03T16:13:54.634274",
     "exception": false,
     "start_time": "2023-08-03T16:06:37.056478",
     "status": "completed"
    },
    "tags": []
   },
   "outputs": [
    {
     "name": "stdout",
     "output_type": "stream",
     "text": [
      "Epoch 1/8\n",
      "6056/6056 - 82s - loss: 0.5779 - accuracy: 0.7579 - val_loss: 0.4992 - val_accuracy: 0.7909 - 82s/epoch - 13ms/step\n",
      "Epoch 2/8\n",
      "6056/6056 - 58s - loss: 0.4493 - accuracy: 0.8108 - val_loss: 0.4721 - val_accuracy: 0.8021 - 58s/epoch - 10ms/step\n",
      "Epoch 3/8\n",
      "6056/6056 - 57s - loss: 0.3999 - accuracy: 0.8304 - val_loss: 0.4727 - val_accuracy: 0.8054 - 57s/epoch - 9ms/step\n",
      "Epoch 4/8\n",
      "6056/6056 - 60s - loss: 0.3671 - accuracy: 0.8431 - val_loss: 0.4774 - val_accuracy: 0.8073 - 60s/epoch - 10ms/step\n",
      "Epoch 5/8\n",
      "6056/6056 - 60s - loss: 0.3415 - accuracy: 0.8532 - val_loss: 0.4944 - val_accuracy: 0.8069 - 60s/epoch - 10ms/step\n",
      "Epoch 6/8\n",
      "6056/6056 - 60s - loss: 0.3196 - accuracy: 0.8609 - val_loss: 0.5089 - val_accuracy: 0.8037 - 60s/epoch - 10ms/step\n",
      "Epoch 7/8\n",
      "Restoring model weights from the end of the best epoch: 4.\n",
      "6056/6056 - 61s - loss: 0.3002 - accuracy: 0.8688 - val_loss: 0.5241 - val_accuracy: 0.8010 - 61s/epoch - 10ms/step\n",
      "Epoch 7: early stopping\n"
     ]
    },
    {
     "data": {
      "text/plain": [
       "<keras.callbacks.History at 0x7cb8e0c94590>"
      ]
     },
     "execution_count": 23,
     "metadata": {},
     "output_type": "execute_result"
    }
   ],
   "source": [
    "model2.fit(X_train, y_train, epochs = epoch, verbose=2, validation_data=(X_val,y_val), callbacks = [callback])"
   ]
  },
  {
   "cell_type": "code",
   "execution_count": 24,
   "id": "dfcafae6",
   "metadata": {
    "execution": {
     "iopub.execute_input": "2023-08-03T16:13:54.677512Z",
     "iopub.status.busy": "2023-08-03T16:13:54.676307Z",
     "iopub.status.idle": "2023-08-03T16:14:03.089613Z",
     "shell.execute_reply": "2023-08-03T16:14:03.088416Z"
    },
    "papermill": {
     "duration": 8.437362,
     "end_time": "2023-08-03T16:14:03.092237",
     "exception": false,
     "start_time": "2023-08-03T16:13:54.654875",
     "status": "completed"
    },
    "tags": []
   },
   "outputs": [
    {
     "data": {
      "image/png": "[encoded data removed]",
      "text/plain": [
       "<Figure size 640x480 with 1 Axes>"
      ]
     },
     "metadata": {},
     "output_type": "display_data"
    }
   ],
   "source": [
    "plt.plot(history.history['accuracy'], 'b')\n",
    "plt.plot(history.history['val_accuracy'], 'r')\n",
    "plt.title('Model Accuracy'),\n",
    "plt.xlabel('Epochs')\n",
    "plt.ylabel('Accuracy')\n",
    "plt.legend(['Train', 'Validation'], loc='upper left')\n",
    "plt.show()"
   ]
  },
  {
   "cell_type": "code",
   "execution_count": 25,
   "id": "3ce6ca4e",
   "metadata": {
    "execution": {
     "iopub.execute_input": "2023-08-03T16:14:03.136661Z",
     "iopub.status.busy": "2023-08-03T16:14:03.135054Z",
     "iopub.status.idle": "2023-08-03T16:14:08.317573Z",
     "shell.execute_reply": "2023-08-03T16:14:08.316048Z"
    },
    "papermill": {
     "duration": 5.207361,
     "end_time": "2023-08-03T16:14:08.320323",
     "exception": false,
     "start_time": "2023-08-03T16:14:03.112962",
     "status": "completed"
    },
    "tags": []
   },
   "outputs": [
    {
     "name": "stdout",
     "output_type": "stream",
     "text": [
      "748/748 - 3s - loss: 0.4834 - accuracy: 0.8057 - 3s/epoch - 4ms/step\n",
      "Test accuracy: 0.8057181239128113\n"
     ]
    }
   ],
   "source": [
    "scores = model2.evaluate(X_test, y_test, verbose=2)\n",
    "print('Test accuracy:', scores[1])"
   ]
  },
  {
   "cell_type": "code",
   "execution_count": 26,
   "id": "9309304a",
   "metadata": {
    "execution": {
     "iopub.execute_input": "2023-08-03T16:14:08.363346Z",
     "iopub.status.busy": "2023-08-03T16:14:08.363021Z",
     "iopub.status.idle": "2023-08-03T16:14:08.368196Z",
     "shell.execute_reply": "2023-08-03T16:14:08.367091Z"
    },
    "papermill": {
     "duration": 0.029583,
     "end_time": "2023-08-03T16:14:08.370630",
     "exception": false,
     "start_time": "2023-08-03T16:14:08.341047",
     "status": "completed"
    },
    "tags": []
   },
   "outputs": [],
   "source": [
    "all_models.append(model2)"
   ]
  },
  {
   "cell_type": "markdown",
   "id": "cadd9546",
   "metadata": {
    "papermill": {
     "duration": 0.020066,
     "end_time": "2023-08-03T16:14:08.410820",
     "exception": false,
     "start_time": "2023-08-03T16:14:08.390754",
     "status": "completed"
    },
    "tags": []
   },
   "source": [
    "# **Ensembled Model**"
   ]
  },
  {
   "cell_type": "code",
   "execution_count": 27,
   "id": "409489bc",
   "metadata": {
    "execution": {
     "iopub.execute_input": "2023-08-03T16:14:08.453158Z",
     "iopub.status.busy": "2023-08-03T16:14:08.452814Z",
     "iopub.status.idle": "2023-08-03T16:14:08.462216Z",
     "shell.execute_reply": "2023-08-03T16:14:08.461239Z"
    },
    "papermill": {
     "duration": 0.033182,
     "end_time": "2023-08-03T16:14:08.464524",
     "exception": false,
     "start_time": "2023-08-03T16:14:08.431342",
     "status": "completed"
    },
    "tags": []
   },
   "outputs": [],
   "source": [
    "def final_pred(X):\n",
    "    preds = []\n",
    "    for model in all_models[:]:\n",
    "        pred = model.predict(X)\n",
    "        pred = np.argmax(pred,axis=1)\n",
    "        preds.append(pred)\n",
    "    final = np.vstack((preds[0],preds[1],preds[2]))\n",
    "#     final = np.vstack((preds[0],preds[1]))\n",
    "    final = np.array(final)\n",
    "    final = np.transpose(final)\n",
    "    f = []\n",
    "    for i in final:\n",
    "        a,b = np.unique(i,axis=0,return_counts=True)\n",
    "        f.append(a[np.argmax(b)])\n",
    "    return f"
   ]
  },
  {
   "cell_type": "code",
   "execution_count": 28,
   "id": "93db1ff5",
   "metadata": {
    "execution": {
     "iopub.execute_input": "2023-08-03T16:14:08.506505Z",
     "iopub.status.busy": "2023-08-03T16:14:08.505542Z",
     "iopub.status.idle": "2023-08-03T16:14:24.524234Z",
     "shell.execute_reply": "2023-08-03T16:14:24.523049Z"
    },
    "papermill": {
     "duration": 16.042967,
     "end_time": "2023-08-03T16:14:24.527415",
     "exception": false,
     "start_time": "2023-08-03T16:14:08.484448",
     "status": "completed"
    },
    "tags": []
   },
   "outputs": [
    {
     "name": "stdout",
     "output_type": "stream",
     "text": [
      "748/748 [==============================] - 3s 4ms/step\n",
      "748/748 [==============================] - 3s 3ms/step\n",
      "748/748 [==============================] - 4s 4ms/step\n"
     ]
    }
   ],
   "source": [
    "k = final_pred(X_test)"
   ]
  },
  {
   "cell_type": "code",
   "execution_count": 29,
   "id": "d2ff2db9",
   "metadata": {
    "execution": {
     "iopub.execute_input": "2023-08-03T16:14:24.600253Z",
     "iopub.status.busy": "2023-08-03T16:14:24.599848Z",
     "iopub.status.idle": "2023-08-03T16:14:27.056661Z",
     "shell.execute_reply": "2023-08-03T16:14:27.055401Z"
    },
    "papermill": {
     "duration": 2.496109,
     "end_time": "2023-08-03T16:14:27.059824",
     "exception": false,
     "start_time": "2023-08-03T16:14:24.563715",
     "status": "completed"
    },
    "tags": []
   },
   "outputs": [
    {
     "name": "stdout",
     "output_type": "stream",
     "text": [
      "748/748 [==============================] - 2s 3ms/step\n"
     ]
    },
    {
     "data": {
      "text/plain": [
       "0.7733238588864738"
      ]
     },
     "execution_count": 29,
     "metadata": {},
     "output_type": "execute_result"
    }
   ],
   "source": [
    "accuracy_score(np.argmax(model.predict(X_test),axis=1),org_y_test)"
   ]
  },
  {
   "cell_type": "code",
   "execution_count": 30,
   "id": "d21e9321",
   "metadata": {
    "execution": {
     "iopub.execute_input": "2023-08-03T16:14:27.143139Z",
     "iopub.status.busy": "2023-08-03T16:14:27.142723Z",
     "iopub.status.idle": "2023-08-03T16:14:29.775969Z",
     "shell.execute_reply": "2023-08-03T16:14:29.774550Z"
    },
    "papermill": {
     "duration": 2.67766,
     "end_time": "2023-08-03T16:14:29.778969",
     "exception": false,
     "start_time": "2023-08-03T16:14:27.101309",
     "status": "completed"
    },
    "tags": []
   },
   "outputs": [
    {
     "name": "stdout",
     "output_type": "stream",
     "text": [
      "748/748 [==============================] - 2s 3ms/step\n"
     ]
    },
    {
     "data": {
      "text/plain": [
       "0.8061360976425347"
      ]
     },
     "execution_count": 30,
     "metadata": {},
     "output_type": "execute_result"
    }
   ],
   "source": [
    "accuracy_score(np.argmax(model1.predict(X_test),axis=1),org_y_test)"
   ]
  },
  {
   "cell_type": "code",
   "execution_count": 31,
   "id": "746187a3",
   "metadata": {
    "execution": {
     "iopub.execute_input": "2023-08-03T16:14:29.872389Z",
     "iopub.status.busy": "2023-08-03T16:14:29.871958Z",
     "iopub.status.idle": "2023-08-03T16:14:35.068524Z",
     "shell.execute_reply": "2023-08-03T16:14:35.067276Z"
    },
    "papermill": {
     "duration": 5.244582,
     "end_time": "2023-08-03T16:14:35.071756",
     "exception": false,
     "start_time": "2023-08-03T16:14:29.827174",
     "status": "completed"
    },
    "tags": []
   },
   "outputs": [
    {
     "name": "stdout",
     "output_type": "stream",
     "text": [
      "748/748 [==============================] - 3s 4ms/step\n"
     ]
    },
    {
     "data": {
      "text/plain": [
       "0.8057181073399097"
      ]
     },
     "execution_count": 31,
     "metadata": {},
     "output_type": "execute_result"
    }
   ],
   "source": [
    "accuracy_score(np.argmax(model2.predict(X_test),axis=1),org_y_test)"
   ]
  },
  {
   "cell_type": "markdown",
   "id": "fe947f4f",
   "metadata": {
    "papermill": {
     "duration": 0.047403,
     "end_time": "2023-08-03T16:14:35.166839",
     "exception": false,
     "start_time": "2023-08-03T16:14:35.119436",
     "status": "completed"
    },
    "tags": []
   },
   "source": [
    "**Ensembled model accuracy**"
   ]
  },
  {
   "cell_type": "code",
   "execution_count": 32,
   "id": "790579e2",
   "metadata": {
    "execution": {
     "iopub.execute_input": "2023-08-03T16:14:35.260290Z",
     "iopub.status.busy": "2023-08-03T16:14:35.259266Z",
     "iopub.status.idle": "2023-08-03T16:14:35.284569Z",
     "shell.execute_reply": "2023-08-03T16:14:35.283422Z"
    },
    "papermill": {
     "duration": 0.074454,
     "end_time": "2023-08-03T16:14:35.287494",
     "exception": false,
     "start_time": "2023-08-03T16:14:35.213040",
     "status": "completed"
    },
    "tags": []
   },
   "outputs": [
    {
     "data": {
      "text/plain": [
       "0.8080588530346096"
      ]
     },
     "execution_count": 32,
     "metadata": {},
     "output_type": "execute_result"
    }
   ],
   "source": [
    "accuracy_score(k,org_y_test)  "
   ]
  },
  {
   "cell_type": "code",
   "execution_count": null,
   "id": "017566fe",
   "metadata": {
    "papermill": {
     "duration": 0.045667,
     "end_time": "2023-08-03T16:14:35.381534",
     "exception": false,
     "start_time": "2023-08-03T16:14:35.335867",
     "status": "completed"
    },
    "tags": []
   },
   "outputs": [],
   "source": []
  }
 ],
 "metadata": {
  "kernelspec": {
   "display_name": "Python 3",
   "language": "python",
   "name": "python3"
  },
  "language_info": {
   "codemirror_mode": {
    "name": "ipython",
    "version": 3
   },
   "file_extension": ".py",
   "mimetype": "text/x-python",
   "name": "python",
   "nbconvert_exporter": "python",
   "pygments_lexer": "ipython3",
   "version": "3.7.12"
  },
  "papermill": {
   "default_parameters": {},
   "duration": 1272.720502,
   "end_time": "2023-08-03T16:14:39.334743",
   "environment_variables": {},
   "exception": null,
   "input_path": "__notebook__.ipynb",
   "output_path": "__notebook__.ipynb",
   "parameters": {},
   "start_time": "2023-08-03T15:53:26.614241",
   "version": "2.4.0"
  }
 },
 "nbformat": 4,
 "nbformat_minor": 5
}
